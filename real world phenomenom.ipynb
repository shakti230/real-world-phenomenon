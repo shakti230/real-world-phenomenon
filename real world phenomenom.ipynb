{
 "cells": [
  {
   "cell_type": "markdown",
   "metadata": {},
   "source": [
    "# Mary McDonagh\n",
    "# Programming for Data Analysis\n",
    "# Analysis of a real world phenomenom\n",
    "\n",
    "### Table of Contents\n",
    "- 1.0 Investigation\n",
    "- 2.0 Assignment Questions:\n",
    "- 2.1 Choose a real world phenomenon to collect at least one-hundred data points across at least four different variables.\n",
    "- 2.2 Investigate the types of variables involved, their likely distributions and their relationships with each other.\n",
    "- 2.3 Sumulate a data set matching their properties as closely as possible.\n",
    "- 3.0 Summary\n",
    "- 4.0 References"
   ]
  },
  {
   "cell_type": "markdown",
   "metadata": {},
   "source": [
    "## 1.0 Investigation\n",
    "I have chosen to review data of world econometric factors in order to analyse the associations between the world GDP per capita, life expectancy, population, birth rate and neo natal mortality rate. This project is based on a pre existing dataset taken from the world databank indicators portal. The datset is called nations.csv."
   ]
  },
  {
   "cell_type": "markdown",
   "metadata": {},
   "source": [
    "## 2.0 Assignment Questions\n",
    "\n",
    "### 2.1: Choose a real-world phenomenon that can be measured and for which you could collect at least one-hundred data points across at least four different variables"
   ]
  },
  {
   "cell_type": "markdown",
   "metadata": {},
   "source": [
    "#### Overview of the existing Dataset.\n",
    "\n",
    "Five variables have been taken into consideration:\n",
    "- gdp_percap\n",
    "- life_expect\n",
    "- population\n",
    "- birth_rate\n",
    "- Neo natal Mortal Rate.\n",
    "\n",
    "To begin I will study the existing dataset to understand the different attributes, their relations with each other and the distribution they follow. Using these observations I will form an algorithym for a manual data sythesis."
   ]
  },
  {
   "cell_type": "code",
   "execution_count": 21,
   "metadata": {},
   "outputs": [],
   "source": [
    "# import packages\n",
    "import numpy as np\n",
    "import pandas as pd\n",
    "import seaborn as sns\n",
    "import matplotlib.pyplot as plt\n",
    "%matplotlib inline\n",
    "from collections import Counter"
   ]
  },
  {
   "cell_type": "code",
   "execution_count": 72,
   "metadata": {},
   "outputs": [
    {
     "data": {
      "text/plain": [
       "'C:\\\\Users\\\\sam2\\\\real world phenomenon'"
      ]
     },
     "execution_count": 72,
     "metadata": {},
     "output_type": "execute_result"
    }
   ],
   "source": [
    "import os\n",
    "os.getcwd()"
   ]
  },
  {
   "cell_type": "code",
   "execution_count": 73,
   "metadata": {},
   "outputs": [
    {
     "data": {
      "text/plain": [
       "['.ipynb_checkpoints',\n",
       " 'nations.csv',\n",
       " 'obsolete',\n",
       " 'real world phenomenom.ipynb',\n",
       " 'Updated project']"
      ]
     },
     "execution_count": 73,
     "metadata": {},
     "output_type": "execute_result"
    }
   ],
   "source": [
    "os.listdir(os.getcwd())"
   ]
  },
  {
   "cell_type": "code",
   "execution_count": 22,
   "metadata": {},
   "outputs": [
    {
     "name": "stdout",
     "output_type": "stream",
     "text": [
      "['iso2c', 'iso3c', 'country', 'year', 'gdp_percap', 'life_expect', 'population', 'birth_rate', 'neonat_mortal_rate', 'region', 'income']\n",
      "Counter({1990: 211, 1991: 211, 1992: 211, 1993: 211, 1994: 211, 1995: 211, 1996: 211, 1997: 211, 1998: 211, 1999: 211, 2000: 211, 2001: 211, 2002: 211, 2003: 211, 2004: 211, 2005: 211, 2006: 211, 2007: 211, 2008: 211, 2009: 211, 2010: 211, 2011: 211, 2012: 211, 2013: 211, 2014: 211})\n",
      " Number of Rows by Columns (5275, 11)\n"
     ]
    }
   ],
   "source": [
    "# Reading the csv file with the pre-defined data\n",
    "# Sort the year into a list and print the output\n",
    "import pandas as pd\n",
    "predefined_data = pd.read_csv(\"nations.csv\")\n",
    "print(list(predefined_data))\n",
    "year=sorted(predefined_data['year'].tolist())\n",
    "print(Counter(year))\n",
    "print(\" Number of Rows by Columns\", predefined_data.shape)"
   ]
  },
  {
   "cell_type": "code",
   "execution_count": 10,
   "metadata": {},
   "outputs": [
    {
     "data": {
      "text/html": [
       "<div>\n",
       "<style scoped>\n",
       "    .dataframe tbody tr th:only-of-type {\n",
       "        vertical-align: middle;\n",
       "    }\n",
       "\n",
       "    .dataframe tbody tr th {\n",
       "        vertical-align: top;\n",
       "    }\n",
       "\n",
       "    .dataframe thead th {\n",
       "        text-align: right;\n",
       "    }\n",
       "</style>\n",
       "<table border=\"1\" class=\"dataframe\">\n",
       "  <thead>\n",
       "    <tr style=\"text-align: right;\">\n",
       "      <th></th>\n",
       "      <th>iso2c</th>\n",
       "      <th>iso3c</th>\n",
       "      <th>country</th>\n",
       "      <th>year</th>\n",
       "      <th>gdp_percap</th>\n",
       "      <th>life_expect</th>\n",
       "      <th>population</th>\n",
       "      <th>birth_rate</th>\n",
       "      <th>neonat_mortal_rate</th>\n",
       "      <th>region</th>\n",
       "      <th>income</th>\n",
       "    </tr>\n",
       "  </thead>\n",
       "  <tbody>\n",
       "    <tr>\n",
       "      <th>0</th>\n",
       "      <td>AD</td>\n",
       "      <td>AND</td>\n",
       "      <td>Andorra</td>\n",
       "      <td>1996</td>\n",
       "      <td>NaN</td>\n",
       "      <td>NaN</td>\n",
       "      <td>64291.0</td>\n",
       "      <td>10.9</td>\n",
       "      <td>2.8</td>\n",
       "      <td>Europe &amp; Central Asia</td>\n",
       "      <td>High income</td>\n",
       "    </tr>\n",
       "    <tr>\n",
       "      <th>1</th>\n",
       "      <td>AD</td>\n",
       "      <td>AND</td>\n",
       "      <td>Andorra</td>\n",
       "      <td>1994</td>\n",
       "      <td>NaN</td>\n",
       "      <td>NaN</td>\n",
       "      <td>62707.0</td>\n",
       "      <td>10.9</td>\n",
       "      <td>3.2</td>\n",
       "      <td>Europe &amp; Central Asia</td>\n",
       "      <td>High income</td>\n",
       "    </tr>\n",
       "    <tr>\n",
       "      <th>2</th>\n",
       "      <td>AD</td>\n",
       "      <td>AND</td>\n",
       "      <td>Andorra</td>\n",
       "      <td>2003</td>\n",
       "      <td>NaN</td>\n",
       "      <td>NaN</td>\n",
       "      <td>74783.0</td>\n",
       "      <td>10.3</td>\n",
       "      <td>2.0</td>\n",
       "      <td>Europe &amp; Central Asia</td>\n",
       "      <td>High income</td>\n",
       "    </tr>\n",
       "    <tr>\n",
       "      <th>3</th>\n",
       "      <td>AD</td>\n",
       "      <td>AND</td>\n",
       "      <td>Andorra</td>\n",
       "      <td>1990</td>\n",
       "      <td>NaN</td>\n",
       "      <td>NaN</td>\n",
       "      <td>54511.0</td>\n",
       "      <td>11.9</td>\n",
       "      <td>4.3</td>\n",
       "      <td>Europe &amp; Central Asia</td>\n",
       "      <td>High income</td>\n",
       "    </tr>\n",
       "    <tr>\n",
       "      <th>4</th>\n",
       "      <td>AD</td>\n",
       "      <td>AND</td>\n",
       "      <td>Andorra</td>\n",
       "      <td>2009</td>\n",
       "      <td>NaN</td>\n",
       "      <td>NaN</td>\n",
       "      <td>85474.0</td>\n",
       "      <td>9.9</td>\n",
       "      <td>1.7</td>\n",
       "      <td>Europe &amp; Central Asia</td>\n",
       "      <td>High income</td>\n",
       "    </tr>\n",
       "  </tbody>\n",
       "</table>\n",
       "</div>"
      ],
      "text/plain": [
       "  iso2c iso3c  country  year  gdp_percap  life_expect  population  birth_rate  \\\n",
       "0    AD   AND  Andorra  1996         NaN          NaN     64291.0        10.9   \n",
       "1    AD   AND  Andorra  1994         NaN          NaN     62707.0        10.9   \n",
       "2    AD   AND  Andorra  2003         NaN          NaN     74783.0        10.3   \n",
       "3    AD   AND  Andorra  1990         NaN          NaN     54511.0        11.9   \n",
       "4    AD   AND  Andorra  2009         NaN          NaN     85474.0         9.9   \n",
       "\n",
       "   neonat_mortal_rate                 region       income  \n",
       "0                 2.8  Europe & Central Asia  High income  \n",
       "1                 3.2  Europe & Central Asia  High income  \n",
       "2                 2.0  Europe & Central Asia  High income  \n",
       "3                 4.3  Europe & Central Asia  High income  \n",
       "4                 1.7  Europe & Central Asia  High income  "
      ]
     },
     "execution_count": 10,
     "metadata": {},
     "output_type": "execute_result"
    }
   ],
   "source": [
    "# Read the raw csv file from my github\n",
    "# Use .head to show the headings\n",
    "df_nations = pd.read_csv('https://raw.githubusercontent.com/shakti230/real-world-phenomenon/master/nations.csv?token=AikNlzQzU6s3d94PO8-7A50mv6Ij-CDbks5cGYL6wA%3D%3D')      \n",
    "df_nations.head()"
   ]
  },
  {
   "cell_type": "markdown",
   "metadata": {},
   "source": [
    "### 2.2 Investigate the types of variables involved, their likely distributions and their relationships with each other.\n"
   ]
  },
  {
   "cell_type": "markdown",
   "metadata": {},
   "source": [
    "#### Subsetting values\n",
    "The dataset has 5275 rows of data gathered over a period of 24 years starting from 1990 to 2014. Each year has 211 data point. We subset the data where the year is equal to 2000. I will use this as a reference for the project. The rows containing NA values have been removed and the columns which are not necessary are not included.\n"
   ]
  },
  {
   "cell_type": "code",
   "execution_count": 11,
   "metadata": {},
   "outputs": [
    {
     "data": {
      "text/html": [
       "<div>\n",
       "<style scoped>\n",
       "    .dataframe tbody tr th:only-of-type {\n",
       "        vertical-align: middle;\n",
       "    }\n",
       "\n",
       "    .dataframe tbody tr th {\n",
       "        vertical-align: top;\n",
       "    }\n",
       "\n",
       "    .dataframe thead th {\n",
       "        text-align: right;\n",
       "    }\n",
       "</style>\n",
       "<table border=\"1\" class=\"dataframe\">\n",
       "  <thead>\n",
       "    <tr style=\"text-align: right;\">\n",
       "      <th></th>\n",
       "      <th>country</th>\n",
       "      <th>year</th>\n",
       "      <th>gdp_percap</th>\n",
       "      <th>life_expect</th>\n",
       "      <th>population</th>\n",
       "      <th>birth_rate</th>\n",
       "      <th>neonat_mortal_rate</th>\n",
       "      <th>region</th>\n",
       "      <th>income</th>\n",
       "    </tr>\n",
       "  </thead>\n",
       "  <tbody>\n",
       "    <tr>\n",
       "      <th>34</th>\n",
       "      <td>United Arab Emirates</td>\n",
       "      <td>2000</td>\n",
       "      <td>84974.894090</td>\n",
       "      <td>74.451537</td>\n",
       "      <td>3050128.0</td>\n",
       "      <td>16.399</td>\n",
       "      <td>5.6</td>\n",
       "      <td>Middle East &amp; North Africa</td>\n",
       "      <td>High income</td>\n",
       "    </tr>\n",
       "    <tr>\n",
       "      <th>80</th>\n",
       "      <td>Antigua and Barbuda</td>\n",
       "      <td>2000</td>\n",
       "      <td>15312.566500</td>\n",
       "      <td>73.397293</td>\n",
       "      <td>77648.0</td>\n",
       "      <td>20.240</td>\n",
       "      <td>9.4</td>\n",
       "      <td>Latin America &amp; Caribbean</td>\n",
       "      <td>Upper middle income</td>\n",
       "    </tr>\n",
       "    <tr>\n",
       "      <th>119</th>\n",
       "      <td>Albania</td>\n",
       "      <td>2000</td>\n",
       "      <td>4045.752069</td>\n",
       "      <td>74.271537</td>\n",
       "      <td>3089027.0</td>\n",
       "      <td>16.401</td>\n",
       "      <td>11.3</td>\n",
       "      <td>Europe &amp; Central Asia</td>\n",
       "      <td>Upper middle income</td>\n",
       "    </tr>\n",
       "    <tr>\n",
       "      <th>139</th>\n",
       "      <td>Armenia</td>\n",
       "      <td>2000</td>\n",
       "      <td>2313.331946</td>\n",
       "      <td>71.276585</td>\n",
       "      <td>3076098.0</td>\n",
       "      <td>13.203</td>\n",
       "      <td>15.9</td>\n",
       "      <td>Europe &amp; Central Asia</td>\n",
       "      <td>Lower middle income</td>\n",
       "    </tr>\n",
       "    <tr>\n",
       "      <th>161</th>\n",
       "      <td>Angola</td>\n",
       "      <td>2000</td>\n",
       "      <td>3036.559728</td>\n",
       "      <td>45.204780</td>\n",
       "      <td>15058638.0</td>\n",
       "      <td>51.009</td>\n",
       "      <td>58.4</td>\n",
       "      <td>Sub-Saharan Africa</td>\n",
       "      <td>Lower middle income</td>\n",
       "    </tr>\n",
       "  </tbody>\n",
       "</table>\n",
       "</div>"
      ],
      "text/plain": [
       "                  country  year    gdp_percap  life_expect  population  \\\n",
       "34   United Arab Emirates  2000  84974.894090    74.451537   3050128.0   \n",
       "80    Antigua and Barbuda  2000  15312.566500    73.397293     77648.0   \n",
       "119               Albania  2000   4045.752069    74.271537   3089027.0   \n",
       "139               Armenia  2000   2313.331946    71.276585   3076098.0   \n",
       "161                Angola  2000   3036.559728    45.204780  15058638.0   \n",
       "\n",
       "     birth_rate  neonat_mortal_rate                      region  \\\n",
       "34       16.399                 5.6  Middle East & North Africa   \n",
       "80       20.240                 9.4   Latin America & Caribbean   \n",
       "119      16.401                11.3       Europe & Central Asia   \n",
       "139      13.203                15.9       Europe & Central Asia   \n",
       "161      51.009                58.4          Sub-Saharan Africa   \n",
       "\n",
       "                  income  \n",
       "34           High income  \n",
       "80   Upper middle income  \n",
       "119  Upper middle income  \n",
       "139  Lower middle income  \n",
       "161  Lower middle income  "
      ]
     },
     "execution_count": 11,
     "metadata": {},
     "output_type": "execute_result"
    }
   ],
   "source": [
    "# Extracting the data from the year 2000\n",
    "# predefined_data = predefined_data[predefined_data['Year'] == 2000]\n",
    "# remove any rows containing na\n",
    "# remove columns which will not be analysed in this project e.g. iso2c, iso3c\n",
    "predefined_data_2000=predefined_data.loc[predefined_data['year'] == 2000].dropna().drop(columns=['iso2c', 'iso3c'])\n",
    "predefined_data_2000.head()"
   ]
  },
  {
   "cell_type": "markdown",
   "metadata": {},
   "source": [
    "#### Exploratory Analysis\n",
    "Using the describe() function I can display the statistical facts of the data as shown below such as min, max, mean and standard deviation."
   ]
  },
  {
   "cell_type": "code",
   "execution_count": 12,
   "metadata": {},
   "outputs": [
    {
     "data": {
      "text/html": [
       "<div>\n",
       "<style scoped>\n",
       "    .dataframe tbody tr th:only-of-type {\n",
       "        vertical-align: middle;\n",
       "    }\n",
       "\n",
       "    .dataframe tbody tr th {\n",
       "        vertical-align: top;\n",
       "    }\n",
       "\n",
       "    .dataframe thead th {\n",
       "        text-align: right;\n",
       "    }\n",
       "</style>\n",
       "<table border=\"1\" class=\"dataframe\">\n",
       "  <thead>\n",
       "    <tr style=\"text-align: right;\">\n",
       "      <th></th>\n",
       "      <th>year</th>\n",
       "      <th>gdp_percap</th>\n",
       "      <th>life_expect</th>\n",
       "      <th>population</th>\n",
       "      <th>birth_rate</th>\n",
       "      <th>neonat_mortal_rate</th>\n",
       "    </tr>\n",
       "  </thead>\n",
       "  <tbody>\n",
       "    <tr>\n",
       "      <th>count</th>\n",
       "      <td>173.0</td>\n",
       "      <td>173.000000</td>\n",
       "      <td>173.000000</td>\n",
       "      <td>1.730000e+02</td>\n",
       "      <td>173.000000</td>\n",
       "      <td>173.000000</td>\n",
       "    </tr>\n",
       "    <tr>\n",
       "      <th>mean</th>\n",
       "      <td>2000.0</td>\n",
       "      <td>10873.431872</td>\n",
       "      <td>66.468042</td>\n",
       "      <td>3.420891e+07</td>\n",
       "      <td>24.497205</td>\n",
       "      <td>20.243353</td>\n",
       "    </tr>\n",
       "    <tr>\n",
       "      <th>std</th>\n",
       "      <td>0.0</td>\n",
       "      <td>14194.539120</td>\n",
       "      <td>10.246487</td>\n",
       "      <td>1.284700e+08</td>\n",
       "      <td>12.043846</td>\n",
       "      <td>15.205909</td>\n",
       "    </tr>\n",
       "    <tr>\n",
       "      <th>min</th>\n",
       "      <td>2000.0</td>\n",
       "      <td>410.975954</td>\n",
       "      <td>38.690146</td>\n",
       "      <td>1.917400e+04</td>\n",
       "      <td>7.800000</td>\n",
       "      <td>1.600000</td>\n",
       "    </tr>\n",
       "    <tr>\n",
       "      <th>25%</th>\n",
       "      <td>2000.0</td>\n",
       "      <td>1958.932465</td>\n",
       "      <td>59.339488</td>\n",
       "      <td>2.367550e+06</td>\n",
       "      <td>13.300000</td>\n",
       "      <td>7.000000</td>\n",
       "    </tr>\n",
       "    <tr>\n",
       "      <th>50%</th>\n",
       "      <td>2000.0</td>\n",
       "      <td>5785.874250</td>\n",
       "      <td>70.137195</td>\n",
       "      <td>6.949366e+06</td>\n",
       "      <td>21.859000</td>\n",
       "      <td>16.000000</td>\n",
       "    </tr>\n",
       "    <tr>\n",
       "      <th>75%</th>\n",
       "      <td>2000.0</td>\n",
       "      <td>12085.376020</td>\n",
       "      <td>73.748780</td>\n",
       "      <td>2.139227e+07</td>\n",
       "      <td>32.945000</td>\n",
       "      <td>32.000000</td>\n",
       "    </tr>\n",
       "    <tr>\n",
       "      <th>max</th>\n",
       "      <td>2000.0</td>\n",
       "      <td>86725.542030</td>\n",
       "      <td>81.076098</td>\n",
       "      <td>1.262645e+09</td>\n",
       "      <td>53.251000</td>\n",
       "      <td>60.400000</td>\n",
       "    </tr>\n",
       "  </tbody>\n",
       "</table>\n",
       "</div>"
      ],
      "text/plain": [
       "         year    gdp_percap  life_expect    population  birth_rate  \\\n",
       "count   173.0    173.000000   173.000000  1.730000e+02  173.000000   \n",
       "mean   2000.0  10873.431872    66.468042  3.420891e+07   24.497205   \n",
       "std       0.0  14194.539120    10.246487  1.284700e+08   12.043846   \n",
       "min    2000.0    410.975954    38.690146  1.917400e+04    7.800000   \n",
       "25%    2000.0   1958.932465    59.339488  2.367550e+06   13.300000   \n",
       "50%    2000.0   5785.874250    70.137195  6.949366e+06   21.859000   \n",
       "75%    2000.0  12085.376020    73.748780  2.139227e+07   32.945000   \n",
       "max    2000.0  86725.542030    81.076098  1.262645e+09   53.251000   \n",
       "\n",
       "       neonat_mortal_rate  \n",
       "count          173.000000  \n",
       "mean            20.243353  \n",
       "std             15.205909  \n",
       "min              1.600000  \n",
       "25%              7.000000  \n",
       "50%             16.000000  \n",
       "75%             32.000000  \n",
       "max             60.400000  "
      ]
     },
     "execution_count": 12,
     "metadata": {},
     "output_type": "execute_result"
    }
   ],
   "source": [
    "#Exploratory analysis of the different variables.\n",
    "predefined_data_2000.describe()"
   ]
  },
  {
   "cell_type": "markdown",
   "metadata": {},
   "source": [
    "### Dataset per Column "
   ]
  },
  {
   "cell_type": "code",
   "execution_count": 13,
   "metadata": {},
   "outputs": [
    {
     "data": {
      "text/plain": [
       "country                object\n",
       "year                    int64\n",
       "gdp_percap            float64\n",
       "life_expect           float64\n",
       "population            float64\n",
       "birth_rate            float64\n",
       "neonat_mortal_rate    float64\n",
       "region                 object\n",
       "income                 object\n",
       "dtype: object"
      ]
     },
     "execution_count": 13,
     "metadata": {},
     "output_type": "execute_result"
    }
   ],
   "source": [
    "# Display the data types of the columns\n",
    "predefined_data_2000.dtypes"
   ]
  },
  {
   "cell_type": "markdown",
   "metadata": {},
   "source": [
    "The code listed below is used to display the datatypes of the Columns in the data frame. The variables analysed in this project and their data types are as listed below:\n",
    "- year - integer type i.e. non zero value\n",
    "- gdp_percap - float i.e. decimal value\n",
    "- life_expect - float i.e. decimal value\n",
    "- population - float i.e. decimal value\n",
    "- birth_rate - float i.e. decimal value\n",
    "- neonat_mortal_rate - float i.e. decimal value"
   ]
  },
  {
   "cell_type": "markdown",
   "metadata": {},
   "source": [
    "### Distribution of Data\n",
    "Plotting histograms for each column of interest for this project allows me to check the distribution followed by the data in each column."
   ]
  },
  {
   "cell_type": "markdown",
   "metadata": {},
   "source": [
    "### GDP per Capita Histogram"
   ]
  },
  {
   "cell_type": "code",
   "execution_count": 20,
   "metadata": {},
   "outputs": [
    {
     "data": {
      "image/png": "[encoded data removed]",
      "text/plain": [
       "<matplotlib.figure.Figure at 0x201b00066d8>"
      ]
     },
     "metadata": {},
     "output_type": "display_data"
    }
   ],
   "source": [
    "import scipy.stats as stats\n",
    "import numpy as np\n",
    "import matplotlib.pyplot as plt\n",
    "predefined_data = pd.read_csv(\"nations.csv\")\n",
    "fit = stats.norm.pdf(predefined_data_2000['gdp_percap'].tolist(), np.mean(predefined_data_2000['gdp_percap'].tolist()), np.std(predefined_data_2000['gdp_percap'].tolist()))\n",
    "\n",
    "plt.plot(predefined_data_2000['gdp_percap'].tolist(),fit,'o')\n",
    "\n",
    "plt.hist(predefined_data_2000['gdp_percap'].tolist(),normed=True) \n",
    "plt.suptitle(\"GDP per Capita following Poisson Distribution\")\n",
    "plt.show()"
   ]
  },
  {
   "cell_type": "markdown",
   "metadata": {},
   "source": [
    "We can identify from the plot above that the distribution is Poisson.\n",
    "\n",
    "\"The Poisson distribution is used to describe the distribution of rare events in a large population.\"\n",
    "Frank H Stephenson, 2016 (reference Poisson Distribution).\n",
    "\n",
    "Hoffman (2015) suggests that the Poisson distribution approximates the binomial distribution closely when n is very large and p is very small.\n",
    "\n",
    "Marchini (2008) suggests that the Poisson distribution is a discrete probability distribution for the counts of events that occur randomly in a given interval of time (or space)."
   ]
  },
  {
   "cell_type": "markdown",
   "metadata": {},
   "source": [
    "### Life Expectancy Histogram"
   ]
  },
  {
   "cell_type": "code",
   "execution_count": 23,
   "metadata": {},
   "outputs": [
    {
     "data": {
      "image/png": "[encoded data removed]",
      "text/plain": [
       "<matplotlib.figure.Figure at 0x27564de54e0>"
      ]
     },
     "metadata": {},
     "output_type": "display_data"
    }
   ],
   "source": [
    "fit = stats.norm.pdf(predefined_data_2000['life_expect'].tolist(), np.mean(predefined_data_2000['life_expect'].tolist()), np.std(predefined_data_2000['life_expect'].tolist()))  #this is a fitting indeed\n",
    "\n",
    "plt.plot(predefined_data_2000['life_expect'].tolist(),fit,'o')\n",
    "\n",
    "# Draw histogram of the data\n",
    "plt.hist(predefined_data_2000['life_expect'].tolist(),normed=True)      \n",
    "\n",
    "# Name the plot Life Expectancy as using data from this variable to plot\n",
    "plt.suptitle(\"Life Expectancy\")\n",
    "plt.show()"
   ]
  },
  {
   "cell_type": "markdown",
   "metadata": {},
   "source": [
    "### Population Histogram"
   ]
  },
  {
   "cell_type": "code",
   "execution_count": 24,
   "metadata": {},
   "outputs": [
    {
     "data": {
      "image/png": "[encoded data removed]",
      "text/plain": [
       "<matplotlib.figure.Figure at 0x27564e5ea20>"
      ]
     },
     "metadata": {},
     "output_type": "display_data"
    }
   ],
   "source": [
    "# predefined_data_2000['population']=predefined_data_2000.loc[:,'population'] * 1000\n",
    "fit = stats.norm.pdf(predefined_data_2000['population'].tolist(), np.mean(predefined_data_2000['population'].tolist()), np.std(predefined_data_2000['population'].tolist()))  #this is a fitting indeed\n",
    "\n",
    "plt.plot(predefined_data_2000['population'].tolist(),fit,'o')\n",
    "\n",
    "plt.hist(predefined_data_2000['population'].tolist(),normed=True)      \n",
    "plt.suptitle(\"Population following Binomial Distribution\")\n",
    "plt.show()"
   ]
  },
  {
   "cell_type": "markdown",
   "metadata": {},
   "source": [
    "### Binomial Distribution\n",
    "The binomial distribution describes the behavior of a count variable X if the following conditions apply:\n",
    "\n",
    "1: The number of observations n is fixed.\n",
    "2: Each observation is independent.\n",
    "3: Each observation represents one of two outcomes (\"success\" or \"failure\").\n",
    "4: The probability of \"success\" p is the same for each outcome.\n",
    "Reference: Binomial Distribution"
   ]
  },
  {
   "cell_type": "markdown",
   "metadata": {},
   "source": [
    "### Birth Rate Histogram"
   ]
  },
  {
   "cell_type": "code",
   "execution_count": 25,
   "metadata": {},
   "outputs": [
    {
     "data": {
      "image/png": "[encoded data removed]",
      "text/plain": [
       "<matplotlib.figure.Figure at 0x27564ea09b0>"
      ]
     },
     "metadata": {},
     "output_type": "display_data"
    }
   ],
   "source": [
    "# predefined_data_2000['population']=predefined_data_2000.loc[:,'population'] * 1000\n",
    "fit = stats.norm.pdf(predefined_data_2000['birth_rate'].tolist(), np.mean(predefined_data_2000['birth_rate'].tolist()), np.std(predefined_data_2000['birth_rate'].tolist()))  #this is a fitting indeed\n",
    "\n",
    "plt.plot(predefined_data_2000['birth_rate'].tolist(),fit,'o')\n",
    "\n",
    "plt.hist(predefined_data_2000['birth_rate'].tolist(),normed=True)      #use this to draw histogram of your data\n",
    "plt.suptitle(\"Birth Rate following Poisson Distribution\")\n",
    "plt.show()"
   ]
  },
  {
   "cell_type": "markdown",
   "metadata": {},
   "source": [
    "### Neo Natal Mortality Rate Histogram"
   ]
  },
  {
   "cell_type": "code",
   "execution_count": 27,
   "metadata": {},
   "outputs": [
    {
     "data": {
      "image/png": "[encoded data removed]",
      "text/plain": [
       "<matplotlib.figure.Figure at 0x27564e4da90>"
      ]
     },
     "metadata": {},
     "output_type": "display_data"
    }
   ],
   "source": [
    "# predefined_data_2000['population']=predefined_data_2000.loc[:,'population'] * 1000\n",
    "fit = stats.norm.pdf(predefined_data_2000['neonat_mortal_rate'].tolist(), np.mean(predefined_data_2000['neonat_mortal_rate'].tolist()), np.std(predefined_data_2000['neonat_mortal_rate'].tolist()))  #this is a fitting indeed\n",
    "\n",
    "plt.plot(predefined_data_2000['neonat_mortal_rate'].tolist(),fit,'o')\n",
    "\n",
    "plt.hist(predefined_data_2000['neonat_mortal_rate'].tolist(),normed=True)      \n",
    "plt.suptitle(\"Neo Natal Mortality Rate following Poisson Distribution\")\n",
    "plt.show()"
   ]
  },
  {
   "cell_type": "code",
   "execution_count": 68,
   "metadata": {},
   "outputs": [
    {
     "data": {
      "text/plain": [
       "<matplotlib.axes._subplots.AxesSubplot at 0x27564d9f630>"
      ]
     },
     "execution_count": 68,
     "metadata": {},
     "output_type": "execute_result"
    },
    {
     "data": {
      "image/png": "[encoded data removed]",
      "text/plain": [
       "<matplotlib.figure.Figure at 0x27564dc48d0>"
      ]
     },
     "metadata": {},
     "output_type": "display_data"
    }
   ],
   "source": [
    "import seaborn as sns\n",
    "fit = stats.norm.pdf(predefined_data_2000['gdp_percap'].tolist(), np.mean(predefined_data_2000['gdp_percap'].tolist()), np.std(predefined_data_2000['gdp_percap'].tolist()))\n",
    "\n",
    "sns.boxplot(predefined_data_2000['gdp_percap'].tolist())"
   ]
  },
  {
   "cell_type": "code",
   "execution_count": 64,
   "metadata": {},
   "outputs": [
    {
     "data": {
      "text/plain": [
       "<matplotlib.axes._subplots.AxesSubplot at 0x27564f2a7b8>"
      ]
     },
     "execution_count": 64,
     "metadata": {},
     "output_type": "execute_result"
    },
    {
     "data": {
      "image/png": "[encoded data removed]",
      "text/plain": [
       "<matplotlib.figure.Figure at 0x27564f5d588>"
      ]
     },
     "metadata": {},
     "output_type": "display_data"
    }
   ],
   "source": [
    "import seaborn as sns\n",
    "fit = stats.norm.pdf(predefined_data_2000['life_expect'].tolist(), np.mean(predefined_data_2000['life_expect'].tolist()), np.std(predefined_data_2000['life_expect'].tolist()))\n",
    "\n",
    "life_expectsns.boxplot(predefined_data_2000['life_expect'].tolist())"
   ]
  },
  {
   "cell_type": "code",
   "execution_count": 70,
   "metadata": {},
   "outputs": [
    {
     "data": {
      "text/plain": [
       "<matplotlib.axes._subplots.AxesSubplot at 0x27564faa588>"
      ]
     },
     "execution_count": 70,
     "metadata": {},
     "output_type": "execute_result"
    },
    {
     "data": {
      "image/png": "[encoded data removed]",
      "text/plain": [
       "<matplotlib.figure.Figure at 0x275650ed6d8>"
      ]
     },
     "metadata": {},
     "output_type": "display_data"
    }
   ],
   "source": [
    "import seaborn as sns\n",
    "fit = stats.norm.pdf(predefined_data_2000['population'].tolist(), np.mean(predefined_data_2000['population'].tolist()), np.std(predefined_data_2000['population'].tolist()))\n",
    "\n",
    "sns.boxplot(predefined_data_2000['population'].tolist())"
   ]
  },
  {
   "cell_type": "code",
   "execution_count": 65,
   "metadata": {},
   "outputs": [
    {
     "data": {
      "text/plain": [
       "<matplotlib.axes._subplots.AxesSubplot at 0x27564e10668>"
      ]
     },
     "execution_count": 65,
     "metadata": {},
     "output_type": "execute_result"
    },
    {
     "data": {
      "image/png": "[encoded data removed]",
      "text/plain": [
       "<matplotlib.figure.Figure at 0x275650734a8>"
      ]
     },
     "metadata": {},
     "output_type": "display_data"
    }
   ],
   "source": [
    "import seaborn as sns\n",
    "fit = stats.norm.pdf(predefined_data_2000['birth_rate'].tolist(), np.mean(predefined_data_2000['birth_rate'].tolist()), np.std(predefined_data_2000['birth_rate'].tolist()))\n",
    "\n",
    "birth_ratesns.boxplot(predefined_data_2000['birth_rate'].tolist())"
   ]
  },
  {
   "cell_type": "code",
   "execution_count": 67,
   "metadata": {},
   "outputs": [
    {
     "data": {
      "text/plain": [
       "<matplotlib.axes._subplots.AxesSubplot at 0x27564da84a8>"
      ]
     },
     "execution_count": 67,
     "metadata": {},
     "output_type": "execute_result"
    },
    {
     "data": {
      "image/png": "[encoded data removed]",
      "text/plain": [
       "<matplotlib.figure.Figure at 0x27564ef3438>"
      ]
     },
     "metadata": {},
     "output_type": "display_data"
    }
   ],
   "source": [
    "import seaborn as sns\n",
    "fit = stats.norm.pdf(predefined_data_2000['neonat_mortal_rate'].tolist(), np.mean(predefined_data_2000['neonat_mortal_rate'].tolist()), np.std(predefined_data_2000['neonat_mortal_rate'].tolist()))\n",
    "\n",
    "sns.boxplot(predefined_data_2000['neonat_mortal_rate'].tolist())"
   ]
  },
  {
   "cell_type": "markdown",
   "metadata": {},
   "source": [
    "#### Statistics and p-value"
   ]
  },
  {
   "cell_type": "code",
   "execution_count": 30,
   "metadata": {},
   "outputs": [
    {
     "name": "stdout",
     "output_type": "stream",
     "text": [
      "GDP per capita NormaltestResult(statistic=119.45388172309397, pvalue=1.1505862053680181e-26)\n",
      "Life Expectancy NormaltestResult(statistic=17.19234082817446, pvalue=0.0001848121943692328)\n",
      "Population NormaltestResult(statistic=291.24306353269634, pvalue=5.719687581440444e-64)\n",
      "Birth Rate NormaltestResult(statistic=28.945943611317528, pvalue=5.181651590406356e-07)\n",
      "Neo Natal Mortality Rate NormaltestResult(statistic=17.60789866527101, pvalue=0.00015013895400587632)\n"
     ]
    }
   ],
   "source": [
    "print(\"GDP per capita\", stats.mstats.normaltest(predefined_data_2000['gdp_percap'].tolist(), axis=0))\n",
    "print(\"Life Expectancy\", stats.mstats.normaltest(predefined_data_2000['life_expect'].tolist(), axis=0))\n",
    "print(\"Population\", stats.mstats.normaltest(predefined_data_2000['population'].tolist(), axis=0))\n",
    "print(\"Birth Rate\", stats.mstats.normaltest(predefined_data_2000['birth_rate'].tolist(), axis=0))\n",
    "print(\"Neo Natal Mortality Rate\", stats.mstats.normaltest(predefined_data_2000['neonat_mortal_rate'].tolist(), axis=0))"
   ]
  },
  {
   "cell_type": "markdown",
   "metadata": {},
   "source": [
    "### Plotting the attributes against each other to highlight their relationships."
   ]
  },
  {
   "cell_type": "markdown",
   "metadata": {},
   "source": [
    "#### Observation 1\n",
    "\n",
    "The relationship between GDP and Life expectancy is following a positive exponential distribution."
   ]
  },
  {
   "cell_type": "code",
   "execution_count": 19,
   "metadata": {},
   "outputs": [
    {
     "data": {
      "text/plain": [
       "<matplotlib.axes._subplots.AxesSubplot at 0x1fa56392e80>"
      ]
     },
     "execution_count": 19,
     "metadata": {},
     "output_type": "execute_result"
    },
    {
     "data": {
      "image/png": "[encoded data removed]",
      "text/plain": [
       "<matplotlib.figure.Figure at 0x1fa563929b0>"
      ]
     },
     "metadata": {},
     "output_type": "display_data"
    }
   ],
   "source": [
    "predefined_data_2000.plot(x='gdp_percap', y='life_expect', style='ro', title=\"GDP vs Life Expectancy\")"
   ]
  },
  {
   "cell_type": "markdown",
   "metadata": {},
   "source": [
    "#### Observation 2\n",
    "\n",
    "The relationship between GDP and Population is following a uniform distribution with a few outliers. However we can also say that the increase in gdp is related to a lower population."
   ]
  },
  {
   "cell_type": "code",
   "execution_count": 20,
   "metadata": {},
   "outputs": [
    {
     "data": {
      "text/plain": [
       "<matplotlib.axes._subplots.AxesSubplot at 0x1fa56574c50>"
      ]
     },
     "execution_count": 20,
     "metadata": {},
     "output_type": "execute_result"
    },
    {
     "data": {
      "image/png": "[encoded data removed]",
      "text/plain": [
       "<matplotlib.figure.Figure at 0x1fa5636a898>"
      ]
     },
     "metadata": {},
     "output_type": "display_data"
    }
   ],
   "source": [
    "predefined_data_2000.plot(x='gdp_percap', y='population', style='bo', title=\"GDP vs Population\")"
   ]
  },
  {
   "cell_type": "markdown",
   "metadata": {},
   "source": [
    "#### Observation 3\n",
    "\n",
    "The relationship between GDP and Birth Rate is following a negative exponential distribution."
   ]
  },
  {
   "cell_type": "code",
   "execution_count": 21,
   "metadata": {},
   "outputs": [
    {
     "data": {
      "text/plain": [
       "<matplotlib.axes._subplots.AxesSubplot at 0x1fa564bce80>"
      ]
     },
     "execution_count": 21,
     "metadata": {},
     "output_type": "execute_result"
    },
    {
     "data": {
      "image/png": "[encoded data removed]",
      "text/plain": [
       "<matplotlib.figure.Figure at 0x1fa564785f8>"
      ]
     },
     "metadata": {},
     "output_type": "display_data"
    }
   ],
   "source": [
    "predefined_data_2000.plot(x='gdp_percap', y='birth_rate', style='go', title=\"GDP vs Birth Rate\")"
   ]
  },
  {
   "cell_type": "markdown",
   "metadata": {},
   "source": [
    "#### Observation 4\n",
    "The relationship between GDP and Neo natal mortality rate is following a negative exponential distribution."
   ]
  },
  {
   "cell_type": "code",
   "execution_count": 22,
   "metadata": {},
   "outputs": [
    {
     "data": {
      "text/plain": [
       "<matplotlib.axes._subplots.AxesSubplot at 0x1fa56531f60>"
      ]
     },
     "execution_count": 22,
     "metadata": {},
     "output_type": "execute_result"
    },
    {
     "data": {
      "image/png": "[encoded data removed]",
      "text/plain": [
       "<matplotlib.figure.Figure at 0x1fa5650e630>"
      ]
     },
     "metadata": {},
     "output_type": "display_data"
    }
   ],
   "source": [
    "predefined_data_2000.plot(x='gdp_percap', y='neonat_mortal_rate', style='yo', title=\"GDP vs Neo natal mortality rate\")"
   ]
  },
  {
   "cell_type": "markdown",
   "metadata": {},
   "source": [
    "#### Observation 5\n",
    "\n",
    "The relationship between Life Expectancy and Population is following a uniform distribution with a few outliers. We can also identify that increase in life expectancy is related to lower population."
   ]
  },
  {
   "cell_type": "code",
   "execution_count": 23,
   "metadata": {},
   "outputs": [
    {
     "data": {
      "text/plain": [
       "<matplotlib.axes._subplots.AxesSubplot at 0x1fa56559d68>"
      ]
     },
     "execution_count": 23,
     "metadata": {},
     "output_type": "execute_result"
    },
    {
     "data": {
      "image/png": "[encoded data removed]",
      "text/plain": [
       "<matplotlib.figure.Figure at 0x1fa564715f8>"
      ]
     },
     "metadata": {},
     "output_type": "display_data"
    }
   ],
   "source": [
    "predefined_data_2000.plot(x='life_expect', y='population', style='co', title=\"Life Expectancy vs Population\")"
   ]
  },
  {
   "cell_type": "markdown",
   "metadata": {},
   "source": [
    "#### Observation 6\n",
    "\n",
    "The relationship between Life expectancy and birth_rate is following a Poisson distribution with a few outliers. They are indirectly proportional."
   ]
  },
  {
   "cell_type": "code",
   "execution_count": 24,
   "metadata": {},
   "outputs": [
    {
     "data": {
      "text/plain": [
       "<matplotlib.axes._subplots.AxesSubplot at 0x1fa565beb38>"
      ]
     },
     "execution_count": 24,
     "metadata": {},
     "output_type": "execute_result"
    },
    {
     "data": {
      "image/png": "[encoded data removed]",
      "text/plain": [
       "<matplotlib.figure.Figure at 0x1fa565e8048>"
      ]
     },
     "metadata": {},
     "output_type": "display_data"
    }
   ],
   "source": [
    "predefined_data_2000.plot(x='life_expect', y='birth_rate', style='mo', title=\"Life Expectancy vs Birth rate\")"
   ]
  },
  {
   "cell_type": "markdown",
   "metadata": {},
   "source": [
    "#### Observation 7\n",
    "The relationship between Life expectancy and neo natal mortal rate is indirectly proportional to each other."
   ]
  },
  {
   "cell_type": "code",
   "execution_count": 25,
   "metadata": {},
   "outputs": [
    {
     "data": {
      "text/plain": [
       "<matplotlib.axes._subplots.AxesSubplot at 0x1fa565e81d0>"
      ]
     },
     "execution_count": 25,
     "metadata": {},
     "output_type": "execute_result"
    },
    {
     "data": {
      "image/png": "[encoded data removed]",
      "text/plain": [
       "<matplotlib.figure.Figure at 0x1fa5606b198>"
      ]
     },
     "metadata": {},
     "output_type": "display_data"
    }
   ],
   "source": [
    "predefined_data_2000.plot(x='life_expect', y='neonat_mortal_rate', style='C3o', title=\"Life Expectancy vs Neo natal mortality Rate\")"
   ]
  },
  {
   "cell_type": "markdown",
   "metadata": {},
   "source": [
    "#### Observation 8\n",
    "\n",
    "The relationship between Population and neo natal mortal rate is following a uniform distribution with outliers. "
   ]
  },
  {
   "cell_type": "code",
   "execution_count": 26,
   "metadata": {},
   "outputs": [
    {
     "data": {
      "text/plain": [
       "<matplotlib.axes._subplots.AxesSubplot at 0x1fa56662a20>"
      ]
     },
     "execution_count": 26,
     "metadata": {},
     "output_type": "execute_result"
    },
    {
     "data": {
      "image/png": "[encoded data removed]",
      "text/plain": [
       "<matplotlib.figure.Figure at 0x1fa566bd5c0>"
      ]
     },
     "metadata": {},
     "output_type": "display_data"
    }
   ],
   "source": [
    "predefined_data_2000.plot(x='population', y='neonat_mortal_rate', style='o', title=\"Population vs Neo natal mortality Rate\")"
   ]
  },
  {
   "cell_type": "markdown",
   "metadata": {},
   "source": [
    "#### Observation 9\n",
    "The relationship between Population and birth rate is following a uniform distribution with outliers."
   ]
  },
  {
   "cell_type": "code",
   "execution_count": 27,
   "metadata": {},
   "outputs": [
    {
     "data": {
      "text/plain": [
       "<matplotlib.axes._subplots.AxesSubplot at 0x1fa566ee240>"
      ]
     },
     "execution_count": 27,
     "metadata": {},
     "output_type": "execute_result"
    },
    {
     "data": {
      "image/png": "[encoded data removed]",
      "text/plain": [
       "<matplotlib.figure.Figure at 0x1fa5672b0f0>"
      ]
     },
     "metadata": {},
     "output_type": "display_data"
    }
   ],
   "source": [
    "predefined_data_2000.plot(x='population', y='birth_rate', style='ko', title=\"Population vs Birth Rate\")"
   ]
  },
  {
   "cell_type": "markdown",
   "metadata": {},
   "source": [
    "#### Observation 10\n",
    "\n",
    "The relationship between birth_rate and neo natal mortal rate is directly proportional to each other. This can be observed from the increasing slope of the scatter plot."
   ]
  },
  {
   "cell_type": "code",
   "execution_count": 28,
   "metadata": {},
   "outputs": [
    {
     "data": {
      "text/plain": [
       "<matplotlib.axes._subplots.AxesSubplot at 0x1fa56732358>"
      ]
     },
     "execution_count": 28,
     "metadata": {},
     "output_type": "execute_result"
    },
    {
     "data": {
      "image/png": "[encoded data removed]",
      "text/plain": [
       "<matplotlib.figure.Figure at 0x1fa56797940>"
      ]
     },
     "metadata": {},
     "output_type": "display_data"
    }
   ],
   "source": [
    "predefined_data_2000.plot(x='birth_rate', y='neonat_mortal_rate', style='C1o', title=\"Birth Rate vs Neo natal mortality Rate\")"
   ]
  },
  {
   "cell_type": "markdown",
   "metadata": {},
   "source": [
    "## 2.3 Simulate a data set matching their properties as closely as possible.\n",
    "\n",
    "Take the 5 variables and use the np random function to simulate the data for 100 data points. np.random.exponential allows us to draw samples from an exponential distribution.  \n"
   ]
  },
  {
   "cell_type": "code",
   "execution_count": 82,
   "metadata": {},
   "outputs": [],
   "source": [
    "# As per the project guidelines analysing a data set of 100 data points.\n",
    "gdp_per_cap_syn = np.random.exponential(400, 100)\n",
    "life_expect_syn = np.random.exponential(39, 100)\n",
    "population_syn = np.random.exponential(20000, 100)\n",
    "birth_rate_syn = np.random.exponential(7, 100)\n",
    "neonatal_mortal_syn = np.random.exponential(2, 100)"
   ]
  },
  {
   "cell_type": "markdown",
   "metadata": {},
   "source": [
    "### Synthesized Data for GDP per Capita"
   ]
  },
  {
   "cell_type": "code",
   "execution_count": 83,
   "metadata": {},
   "outputs": [
    {
     "data": {
      "image/png": "[encoded data removed]",
      "text/plain": [
       "<matplotlib.figure.Figure at 0x275650d44e0>"
      ]
     },
     "metadata": {},
     "output_type": "display_data"
    }
   ],
   "source": [
    "fit = stats.norm.pdf(gdp_per_cap_syn, np.mean(gdp_per_cap_syn), np.std(gdp_per_cap_syn))\n",
    "\n",
    "plt.plot(gdp_per_cap_syn,fit,'o')\n",
    "\n",
    "plt.hist(gdp_per_cap_syn,normed=True)\n",
    "plt.suptitle(\"GDP per Capita Synthesized data\")\n",
    "plt.show() "
   ]
  },
  {
   "cell_type": "markdown",
   "metadata": {},
   "source": [
    "### Synthesized Data for Life Expectancy"
   ]
  },
  {
   "cell_type": "code",
   "execution_count": 34,
   "metadata": {},
   "outputs": [
    {
     "data": {
      "image/png": "[encoded data removed]",
      "text/plain": [
       "<matplotlib.figure.Figure at 0x27564b53e10>"
      ]
     },
     "metadata": {},
     "output_type": "display_data"
    }
   ],
   "source": [
    "fit = stats.norm.pdf(life_expect_syn, np.mean(life_expect_syn), np.std(life_expect_syn))  \n",
    "\n",
    "plt.plot(life_expect_syn,fit,'o')\n",
    "\n",
    "plt.hist(life_expect_syn,normed=True)      \n",
    "plt.suptitle(\"Life Expectancy Synthesized data\")\n",
    "plt.show() "
   ]
  },
  {
   "cell_type": "markdown",
   "metadata": {},
   "source": [
    "### Synthesized Data for Population"
   ]
  },
  {
   "cell_type": "code",
   "execution_count": 36,
   "metadata": {},
   "outputs": [
    {
     "data": {
      "image/png": "[encoded data removed]",
      "text/plain": [
       "<matplotlib.figure.Figure at 0x27564d24b38>"
      ]
     },
     "metadata": {},
     "output_type": "display_data"
    }
   ],
   "source": [
    "fit = stats.norm.pdf(population_syn, np.mean(population_syn), np.std(population_syn))  \n",
    "\n",
    "plt.plot(population_syn,fit,'o')\n",
    "\n",
    "plt.hist(population_syn,normed=True)\n",
    "plt.suptitle(\"Population Synthesized data\")\n",
    "plt.show()"
   ]
  },
  {
   "cell_type": "markdown",
   "metadata": {},
   "source": [
    "### Synthesized Data for Birth Rate"
   ]
  },
  {
   "cell_type": "code",
   "execution_count": 38,
   "metadata": {},
   "outputs": [
    {
     "data": {
      "image/png": "[encoded data removed]",
      "text/plain": [
       "<matplotlib.figure.Figure at 0x27564fceba8>"
      ]
     },
     "metadata": {},
     "output_type": "display_data"
    }
   ],
   "source": [
    "fit = stats.norm.pdf(birth_rate_syn, np.mean(birth_rate_syn), np.std(birth_rate_syn))\n",
    "\n",
    "plt.plot(birth_rate_syn,fit,'o')\n",
    "\n",
    "plt.hist(birth_rate_syn,normed=True)\n",
    "plt.suptitle(\"Birth Rate Synthesized data\")\n",
    "plt.show()"
   ]
  },
  {
   "cell_type": "markdown",
   "metadata": {},
   "source": [
    "### Synthesized Data for Neo Natal Mortality Rate "
   ]
  },
  {
   "cell_type": "code",
   "execution_count": 44,
   "metadata": {},
   "outputs": [
    {
     "data": {
      "image/png": "[encoded data removed]",
      "text/plain": [
       "<matplotlib.figure.Figure at 0x2756514cf60>"
      ]
     },
     "metadata": {},
     "output_type": "display_data"
    }
   ],
   "source": [
    "fit = stats.norm.pdf(neonatal_mortal_syn, np.mean(neonatal_mortal_syn), np.std(neonatal_mortal_syn))  #this is a fitting indeed\n",
    "\n",
    "plt.plot(neonatal_mortal_syn,fit,'o')\n",
    "\n",
    "plt.hist(neonatal_mortal_syn,normed=True)      #use this to draw histogram of your data\n",
    "plt.suptitle(\"Neo Natal Mortality Rate Data\")\n",
    "plt.show()"
   ]
  },
  {
   "cell_type": "markdown",
   "metadata": {},
   "source": [
    "### New Synthesized DataFrame"
   ]
  },
  {
   "cell_type": "code",
   "execution_count": 39,
   "metadata": {},
   "outputs": [
    {
     "data": {
      "text/html": [
       "<div>\n",
       "<style scoped>\n",
       "    .dataframe tbody tr th:only-of-type {\n",
       "        vertical-align: middle;\n",
       "    }\n",
       "\n",
       "    .dataframe tbody tr th {\n",
       "        vertical-align: top;\n",
       "    }\n",
       "\n",
       "    .dataframe thead th {\n",
       "        text-align: right;\n",
       "    }\n",
       "</style>\n",
       "<table border=\"1\" class=\"dataframe\">\n",
       "  <thead>\n",
       "    <tr style=\"text-align: right;\">\n",
       "      <th></th>\n",
       "      <th>Birth_Rate_Synthesised</th>\n",
       "      <th>GDP_Per_Capita_Synthesised</th>\n",
       "      <th>Life_Expectancy_Synthesised</th>\n",
       "      <th>Neonatal_mortal_rate_Synthesised</th>\n",
       "      <th>Population_Synthesised</th>\n",
       "    </tr>\n",
       "  </thead>\n",
       "  <tbody>\n",
       "    <tr>\n",
       "      <th>0</th>\n",
       "      <td>5.333839</td>\n",
       "      <td>19.150763</td>\n",
       "      <td>61.887098</td>\n",
       "      <td>0.143755</td>\n",
       "      <td>4937.498588</td>\n",
       "    </tr>\n",
       "    <tr>\n",
       "      <th>1</th>\n",
       "      <td>19.483404</td>\n",
       "      <td>238.389555</td>\n",
       "      <td>128.893388</td>\n",
       "      <td>4.375091</td>\n",
       "      <td>11878.814669</td>\n",
       "    </tr>\n",
       "    <tr>\n",
       "      <th>2</th>\n",
       "      <td>15.621396</td>\n",
       "      <td>173.911844</td>\n",
       "      <td>47.343086</td>\n",
       "      <td>4.339346</td>\n",
       "      <td>8710.502930</td>\n",
       "    </tr>\n",
       "    <tr>\n",
       "      <th>3</th>\n",
       "      <td>4.066087</td>\n",
       "      <td>1123.924320</td>\n",
       "      <td>0.705461</td>\n",
       "      <td>2.345859</td>\n",
       "      <td>12607.679470</td>\n",
       "    </tr>\n",
       "    <tr>\n",
       "      <th>4</th>\n",
       "      <td>1.632804</td>\n",
       "      <td>170.128858</td>\n",
       "      <td>2.540831</td>\n",
       "      <td>3.643220</td>\n",
       "      <td>13759.256257</td>\n",
       "    </tr>\n",
       "    <tr>\n",
       "      <th>5</th>\n",
       "      <td>13.004009</td>\n",
       "      <td>457.174597</td>\n",
       "      <td>31.176833</td>\n",
       "      <td>0.270377</td>\n",
       "      <td>62.202871</td>\n",
       "    </tr>\n",
       "    <tr>\n",
       "      <th>6</th>\n",
       "      <td>8.305099</td>\n",
       "      <td>655.212299</td>\n",
       "      <td>13.436800</td>\n",
       "      <td>0.150409</td>\n",
       "      <td>10811.923145</td>\n",
       "    </tr>\n",
       "    <tr>\n",
       "      <th>7</th>\n",
       "      <td>15.538478</td>\n",
       "      <td>215.725829</td>\n",
       "      <td>36.937825</td>\n",
       "      <td>1.822956</td>\n",
       "      <td>23170.756897</td>\n",
       "    </tr>\n",
       "    <tr>\n",
       "      <th>8</th>\n",
       "      <td>4.750633</td>\n",
       "      <td>993.997336</td>\n",
       "      <td>10.621041</td>\n",
       "      <td>1.241010</td>\n",
       "      <td>10068.463242</td>\n",
       "    </tr>\n",
       "    <tr>\n",
       "      <th>9</th>\n",
       "      <td>1.477990</td>\n",
       "      <td>58.839351</td>\n",
       "      <td>46.993918</td>\n",
       "      <td>1.039874</td>\n",
       "      <td>19180.693233</td>\n",
       "    </tr>\n",
       "    <tr>\n",
       "      <th>10</th>\n",
       "      <td>1.497677</td>\n",
       "      <td>396.581921</td>\n",
       "      <td>1.010567</td>\n",
       "      <td>3.013068</td>\n",
       "      <td>17610.178747</td>\n",
       "    </tr>\n",
       "    <tr>\n",
       "      <th>11</th>\n",
       "      <td>7.912396</td>\n",
       "      <td>2.164851</td>\n",
       "      <td>6.394195</td>\n",
       "      <td>0.306305</td>\n",
       "      <td>27254.819970</td>\n",
       "    </tr>\n",
       "    <tr>\n",
       "      <th>12</th>\n",
       "      <td>4.074140</td>\n",
       "      <td>344.842846</td>\n",
       "      <td>7.162508</td>\n",
       "      <td>2.276052</td>\n",
       "      <td>4913.188925</td>\n",
       "    </tr>\n",
       "    <tr>\n",
       "      <th>13</th>\n",
       "      <td>0.476042</td>\n",
       "      <td>912.828989</td>\n",
       "      <td>4.369721</td>\n",
       "      <td>0.613390</td>\n",
       "      <td>4848.308331</td>\n",
       "    </tr>\n",
       "    <tr>\n",
       "      <th>14</th>\n",
       "      <td>11.264745</td>\n",
       "      <td>56.740785</td>\n",
       "      <td>65.029707</td>\n",
       "      <td>3.657665</td>\n",
       "      <td>9434.578698</td>\n",
       "    </tr>\n",
       "    <tr>\n",
       "      <th>15</th>\n",
       "      <td>8.440032</td>\n",
       "      <td>413.415052</td>\n",
       "      <td>2.923331</td>\n",
       "      <td>1.981911</td>\n",
       "      <td>27065.985382</td>\n",
       "    </tr>\n",
       "    <tr>\n",
       "      <th>16</th>\n",
       "      <td>3.035224</td>\n",
       "      <td>15.839589</td>\n",
       "      <td>0.876558</td>\n",
       "      <td>0.496112</td>\n",
       "      <td>30253.338220</td>\n",
       "    </tr>\n",
       "    <tr>\n",
       "      <th>17</th>\n",
       "      <td>1.805619</td>\n",
       "      <td>735.225611</td>\n",
       "      <td>22.923964</td>\n",
       "      <td>0.698667</td>\n",
       "      <td>50703.232208</td>\n",
       "    </tr>\n",
       "    <tr>\n",
       "      <th>18</th>\n",
       "      <td>3.460508</td>\n",
       "      <td>63.874103</td>\n",
       "      <td>72.303347</td>\n",
       "      <td>3.809244</td>\n",
       "      <td>8165.727728</td>\n",
       "    </tr>\n",
       "    <tr>\n",
       "      <th>19</th>\n",
       "      <td>2.913683</td>\n",
       "      <td>304.916684</td>\n",
       "      <td>0.497041</td>\n",
       "      <td>1.204408</td>\n",
       "      <td>6367.663462</td>\n",
       "    </tr>\n",
       "    <tr>\n",
       "      <th>20</th>\n",
       "      <td>0.405739</td>\n",
       "      <td>744.258365</td>\n",
       "      <td>160.202504</td>\n",
       "      <td>1.835510</td>\n",
       "      <td>3427.460783</td>\n",
       "    </tr>\n",
       "    <tr>\n",
       "      <th>21</th>\n",
       "      <td>16.308850</td>\n",
       "      <td>713.054020</td>\n",
       "      <td>56.646744</td>\n",
       "      <td>0.748015</td>\n",
       "      <td>9769.449611</td>\n",
       "    </tr>\n",
       "    <tr>\n",
       "      <th>22</th>\n",
       "      <td>0.081469</td>\n",
       "      <td>931.487972</td>\n",
       "      <td>38.023629</td>\n",
       "      <td>4.398239</td>\n",
       "      <td>2044.349286</td>\n",
       "    </tr>\n",
       "    <tr>\n",
       "      <th>23</th>\n",
       "      <td>0.793735</td>\n",
       "      <td>305.186220</td>\n",
       "      <td>97.097171</td>\n",
       "      <td>0.773445</td>\n",
       "      <td>14138.895082</td>\n",
       "    </tr>\n",
       "    <tr>\n",
       "      <th>24</th>\n",
       "      <td>13.127184</td>\n",
       "      <td>527.296541</td>\n",
       "      <td>138.474546</td>\n",
       "      <td>0.362656</td>\n",
       "      <td>23617.699785</td>\n",
       "    </tr>\n",
       "    <tr>\n",
       "      <th>25</th>\n",
       "      <td>21.065135</td>\n",
       "      <td>37.699324</td>\n",
       "      <td>33.530968</td>\n",
       "      <td>5.338958</td>\n",
       "      <td>2699.996296</td>\n",
       "    </tr>\n",
       "    <tr>\n",
       "      <th>26</th>\n",
       "      <td>2.771092</td>\n",
       "      <td>74.867369</td>\n",
       "      <td>3.739971</td>\n",
       "      <td>1.237405</td>\n",
       "      <td>18529.236190</td>\n",
       "    </tr>\n",
       "    <tr>\n",
       "      <th>27</th>\n",
       "      <td>20.122618</td>\n",
       "      <td>14.253211</td>\n",
       "      <td>34.251345</td>\n",
       "      <td>0.998017</td>\n",
       "      <td>73412.999541</td>\n",
       "    </tr>\n",
       "    <tr>\n",
       "      <th>28</th>\n",
       "      <td>30.204080</td>\n",
       "      <td>402.325538</td>\n",
       "      <td>72.306788</td>\n",
       "      <td>2.628654</td>\n",
       "      <td>9946.229915</td>\n",
       "    </tr>\n",
       "    <tr>\n",
       "      <th>29</th>\n",
       "      <td>3.336679</td>\n",
       "      <td>209.730908</td>\n",
       "      <td>7.884254</td>\n",
       "      <td>1.178712</td>\n",
       "      <td>15381.246451</td>\n",
       "    </tr>\n",
       "    <tr>\n",
       "      <th>...</th>\n",
       "      <td>...</td>\n",
       "      <td>...</td>\n",
       "      <td>...</td>\n",
       "      <td>...</td>\n",
       "      <td>...</td>\n",
       "    </tr>\n",
       "    <tr>\n",
       "      <th>70</th>\n",
       "      <td>5.805686</td>\n",
       "      <td>686.665543</td>\n",
       "      <td>1.479005</td>\n",
       "      <td>1.691167</td>\n",
       "      <td>7253.852107</td>\n",
       "    </tr>\n",
       "    <tr>\n",
       "      <th>71</th>\n",
       "      <td>9.328380</td>\n",
       "      <td>316.556110</td>\n",
       "      <td>2.538311</td>\n",
       "      <td>0.273937</td>\n",
       "      <td>24891.679594</td>\n",
       "    </tr>\n",
       "    <tr>\n",
       "      <th>72</th>\n",
       "      <td>14.161256</td>\n",
       "      <td>192.681440</td>\n",
       "      <td>43.595202</td>\n",
       "      <td>3.512085</td>\n",
       "      <td>8381.718569</td>\n",
       "    </tr>\n",
       "    <tr>\n",
       "      <th>73</th>\n",
       "      <td>2.737748</td>\n",
       "      <td>26.054136</td>\n",
       "      <td>21.690803</td>\n",
       "      <td>2.468976</td>\n",
       "      <td>34290.825728</td>\n",
       "    </tr>\n",
       "    <tr>\n",
       "      <th>74</th>\n",
       "      <td>3.625475</td>\n",
       "      <td>368.349055</td>\n",
       "      <td>36.576540</td>\n",
       "      <td>1.496219</td>\n",
       "      <td>17216.444043</td>\n",
       "    </tr>\n",
       "    <tr>\n",
       "      <th>75</th>\n",
       "      <td>3.386247</td>\n",
       "      <td>288.764755</td>\n",
       "      <td>21.828167</td>\n",
       "      <td>5.361872</td>\n",
       "      <td>22589.579288</td>\n",
       "    </tr>\n",
       "    <tr>\n",
       "      <th>76</th>\n",
       "      <td>21.420560</td>\n",
       "      <td>239.983160</td>\n",
       "      <td>22.184912</td>\n",
       "      <td>3.054212</td>\n",
       "      <td>62434.448144</td>\n",
       "    </tr>\n",
       "    <tr>\n",
       "      <th>77</th>\n",
       "      <td>3.530368</td>\n",
       "      <td>380.134990</td>\n",
       "      <td>7.806634</td>\n",
       "      <td>0.337939</td>\n",
       "      <td>7197.810900</td>\n",
       "    </tr>\n",
       "    <tr>\n",
       "      <th>78</th>\n",
       "      <td>1.338728</td>\n",
       "      <td>88.031527</td>\n",
       "      <td>11.554160</td>\n",
       "      <td>3.369618</td>\n",
       "      <td>4183.473664</td>\n",
       "    </tr>\n",
       "    <tr>\n",
       "      <th>79</th>\n",
       "      <td>1.866052</td>\n",
       "      <td>247.242611</td>\n",
       "      <td>1.076574</td>\n",
       "      <td>0.106627</td>\n",
       "      <td>5356.747396</td>\n",
       "    </tr>\n",
       "    <tr>\n",
       "      <th>80</th>\n",
       "      <td>16.608228</td>\n",
       "      <td>233.029267</td>\n",
       "      <td>12.422419</td>\n",
       "      <td>3.175889</td>\n",
       "      <td>54433.135385</td>\n",
       "    </tr>\n",
       "    <tr>\n",
       "      <th>81</th>\n",
       "      <td>8.019964</td>\n",
       "      <td>765.387996</td>\n",
       "      <td>9.356187</td>\n",
       "      <td>0.714796</td>\n",
       "      <td>38638.298917</td>\n",
       "    </tr>\n",
       "    <tr>\n",
       "      <th>82</th>\n",
       "      <td>1.593528</td>\n",
       "      <td>8.609052</td>\n",
       "      <td>10.032745</td>\n",
       "      <td>8.207546</td>\n",
       "      <td>80257.012902</td>\n",
       "    </tr>\n",
       "    <tr>\n",
       "      <th>83</th>\n",
       "      <td>4.063413</td>\n",
       "      <td>565.614001</td>\n",
       "      <td>20.377164</td>\n",
       "      <td>1.346906</td>\n",
       "      <td>940.406616</td>\n",
       "    </tr>\n",
       "    <tr>\n",
       "      <th>84</th>\n",
       "      <td>9.291466</td>\n",
       "      <td>174.498426</td>\n",
       "      <td>8.783826</td>\n",
       "      <td>0.611487</td>\n",
       "      <td>10263.684561</td>\n",
       "    </tr>\n",
       "    <tr>\n",
       "      <th>85</th>\n",
       "      <td>3.469346</td>\n",
       "      <td>1041.808835</td>\n",
       "      <td>136.214855</td>\n",
       "      <td>2.335204</td>\n",
       "      <td>51417.537486</td>\n",
       "    </tr>\n",
       "    <tr>\n",
       "      <th>86</th>\n",
       "      <td>6.440915</td>\n",
       "      <td>34.289836</td>\n",
       "      <td>81.454625</td>\n",
       "      <td>1.718980</td>\n",
       "      <td>12286.109678</td>\n",
       "    </tr>\n",
       "    <tr>\n",
       "      <th>87</th>\n",
       "      <td>2.245683</td>\n",
       "      <td>12.659839</td>\n",
       "      <td>26.653218</td>\n",
       "      <td>0.065131</td>\n",
       "      <td>23149.672870</td>\n",
       "    </tr>\n",
       "    <tr>\n",
       "      <th>88</th>\n",
       "      <td>17.813988</td>\n",
       "      <td>23.615224</td>\n",
       "      <td>57.743225</td>\n",
       "      <td>2.864899</td>\n",
       "      <td>71.179305</td>\n",
       "    </tr>\n",
       "    <tr>\n",
       "      <th>89</th>\n",
       "      <td>1.419746</td>\n",
       "      <td>206.737118</td>\n",
       "      <td>146.410546</td>\n",
       "      <td>1.019315</td>\n",
       "      <td>1483.364166</td>\n",
       "    </tr>\n",
       "    <tr>\n",
       "      <th>90</th>\n",
       "      <td>5.652868</td>\n",
       "      <td>231.968218</td>\n",
       "      <td>34.593825</td>\n",
       "      <td>0.329581</td>\n",
       "      <td>21695.513029</td>\n",
       "    </tr>\n",
       "    <tr>\n",
       "      <th>91</th>\n",
       "      <td>10.694875</td>\n",
       "      <td>378.283437</td>\n",
       "      <td>41.413897</td>\n",
       "      <td>0.363206</td>\n",
       "      <td>53100.097334</td>\n",
       "    </tr>\n",
       "    <tr>\n",
       "      <th>92</th>\n",
       "      <td>14.196226</td>\n",
       "      <td>687.160079</td>\n",
       "      <td>3.810001</td>\n",
       "      <td>5.754740</td>\n",
       "      <td>9028.627916</td>\n",
       "    </tr>\n",
       "    <tr>\n",
       "      <th>93</th>\n",
       "      <td>2.255654</td>\n",
       "      <td>418.254131</td>\n",
       "      <td>14.781697</td>\n",
       "      <td>0.213816</td>\n",
       "      <td>2583.418416</td>\n",
       "    </tr>\n",
       "    <tr>\n",
       "      <th>94</th>\n",
       "      <td>0.737663</td>\n",
       "      <td>88.784355</td>\n",
       "      <td>53.138132</td>\n",
       "      <td>1.743864</td>\n",
       "      <td>531.276215</td>\n",
       "    </tr>\n",
       "    <tr>\n",
       "      <th>95</th>\n",
       "      <td>5.337884</td>\n",
       "      <td>30.018579</td>\n",
       "      <td>54.661465</td>\n",
       "      <td>0.822746</td>\n",
       "      <td>1959.933883</td>\n",
       "    </tr>\n",
       "    <tr>\n",
       "      <th>96</th>\n",
       "      <td>7.502852</td>\n",
       "      <td>2.789173</td>\n",
       "      <td>45.667893</td>\n",
       "      <td>1.270164</td>\n",
       "      <td>3273.982345</td>\n",
       "    </tr>\n",
       "    <tr>\n",
       "      <th>97</th>\n",
       "      <td>0.845913</td>\n",
       "      <td>80.132622</td>\n",
       "      <td>131.096006</td>\n",
       "      <td>0.632219</td>\n",
       "      <td>4544.430429</td>\n",
       "    </tr>\n",
       "    <tr>\n",
       "      <th>98</th>\n",
       "      <td>24.316512</td>\n",
       "      <td>55.728185</td>\n",
       "      <td>1.997622</td>\n",
       "      <td>0.117854</td>\n",
       "      <td>5170.454427</td>\n",
       "    </tr>\n",
       "    <tr>\n",
       "      <th>99</th>\n",
       "      <td>1.060641</td>\n",
       "      <td>144.411738</td>\n",
       "      <td>270.314358</td>\n",
       "      <td>1.268257</td>\n",
       "      <td>12432.921735</td>\n",
       "    </tr>\n",
       "  </tbody>\n",
       "</table>\n",
       "<p>100 rows × 5 columns</p>\n",
       "</div>"
      ],
      "text/plain": [
       "    Birth_Rate_Synthesised  GDP_Per_Capita_Synthesised  \\\n",
       "0                 5.333839                   19.150763   \n",
       "1                19.483404                  238.389555   \n",
       "2                15.621396                  173.911844   \n",
       "3                 4.066087                 1123.924320   \n",
       "4                 1.632804                  170.128858   \n",
       "5                13.004009                  457.174597   \n",
       "6                 8.305099                  655.212299   \n",
       "7                15.538478                  215.725829   \n",
       "8                 4.750633                  993.997336   \n",
       "9                 1.477990                   58.839351   \n",
       "10                1.497677                  396.581921   \n",
       "11                7.912396                    2.164851   \n",
       "12                4.074140                  344.842846   \n",
       "13                0.476042                  912.828989   \n",
       "14               11.264745                   56.740785   \n",
       "15                8.440032                  413.415052   \n",
       "16                3.035224                   15.839589   \n",
       "17                1.805619                  735.225611   \n",
       "18                3.460508                   63.874103   \n",
       "19                2.913683                  304.916684   \n",
       "20                0.405739                  744.258365   \n",
       "21               16.308850                  713.054020   \n",
       "22                0.081469                  931.487972   \n",
       "23                0.793735                  305.186220   \n",
       "24               13.127184                  527.296541   \n",
       "25               21.065135                   37.699324   \n",
       "26                2.771092                   74.867369   \n",
       "27               20.122618                   14.253211   \n",
       "28               30.204080                  402.325538   \n",
       "29                3.336679                  209.730908   \n",
       "..                     ...                         ...   \n",
       "70                5.805686                  686.665543   \n",
       "71                9.328380                  316.556110   \n",
       "72               14.161256                  192.681440   \n",
       "73                2.737748                   26.054136   \n",
       "74                3.625475                  368.349055   \n",
       "75                3.386247                  288.764755   \n",
       "76               21.420560                  239.983160   \n",
       "77                3.530368                  380.134990   \n",
       "78                1.338728                   88.031527   \n",
       "79                1.866052                  247.242611   \n",
       "80               16.608228                  233.029267   \n",
       "81                8.019964                  765.387996   \n",
       "82                1.593528                    8.609052   \n",
       "83                4.063413                  565.614001   \n",
       "84                9.291466                  174.498426   \n",
       "85                3.469346                 1041.808835   \n",
       "86                6.440915                   34.289836   \n",
       "87                2.245683                   12.659839   \n",
       "88               17.813988                   23.615224   \n",
       "89                1.419746                  206.737118   \n",
       "90                5.652868                  231.968218   \n",
       "91               10.694875                  378.283437   \n",
       "92               14.196226                  687.160079   \n",
       "93                2.255654                  418.254131   \n",
       "94                0.737663                   88.784355   \n",
       "95                5.337884                   30.018579   \n",
       "96                7.502852                    2.789173   \n",
       "97                0.845913                   80.132622   \n",
       "98               24.316512                   55.728185   \n",
       "99                1.060641                  144.411738   \n",
       "\n",
       "    Life_Expectancy_Synthesised  Neonatal_mortal_rate_Synthesised  \\\n",
       "0                     61.887098                          0.143755   \n",
       "1                    128.893388                          4.375091   \n",
       "2                     47.343086                          4.339346   \n",
       "3                      0.705461                          2.345859   \n",
       "4                      2.540831                          3.643220   \n",
       "5                     31.176833                          0.270377   \n",
       "6                     13.436800                          0.150409   \n",
       "7                     36.937825                          1.822956   \n",
       "8                     10.621041                          1.241010   \n",
       "9                     46.993918                          1.039874   \n",
       "10                     1.010567                          3.013068   \n",
       "11                     6.394195                          0.306305   \n",
       "12                     7.162508                          2.276052   \n",
       "13                     4.369721                          0.613390   \n",
       "14                    65.029707                          3.657665   \n",
       "15                     2.923331                          1.981911   \n",
       "16                     0.876558                          0.496112   \n",
       "17                    22.923964                          0.698667   \n",
       "18                    72.303347                          3.809244   \n",
       "19                     0.497041                          1.204408   \n",
       "20                   160.202504                          1.835510   \n",
       "21                    56.646744                          0.748015   \n",
       "22                    38.023629                          4.398239   \n",
       "23                    97.097171                          0.773445   \n",
       "24                   138.474546                          0.362656   \n",
       "25                    33.530968                          5.338958   \n",
       "26                     3.739971                          1.237405   \n",
       "27                    34.251345                          0.998017   \n",
       "28                    72.306788                          2.628654   \n",
       "29                     7.884254                          1.178712   \n",
       "..                          ...                               ...   \n",
       "70                     1.479005                          1.691167   \n",
       "71                     2.538311                          0.273937   \n",
       "72                    43.595202                          3.512085   \n",
       "73                    21.690803                          2.468976   \n",
       "74                    36.576540                          1.496219   \n",
       "75                    21.828167                          5.361872   \n",
       "76                    22.184912                          3.054212   \n",
       "77                     7.806634                          0.337939   \n",
       "78                    11.554160                          3.369618   \n",
       "79                     1.076574                          0.106627   \n",
       "80                    12.422419                          3.175889   \n",
       "81                     9.356187                          0.714796   \n",
       "82                    10.032745                          8.207546   \n",
       "83                    20.377164                          1.346906   \n",
       "84                     8.783826                          0.611487   \n",
       "85                   136.214855                          2.335204   \n",
       "86                    81.454625                          1.718980   \n",
       "87                    26.653218                          0.065131   \n",
       "88                    57.743225                          2.864899   \n",
       "89                   146.410546                          1.019315   \n",
       "90                    34.593825                          0.329581   \n",
       "91                    41.413897                          0.363206   \n",
       "92                     3.810001                          5.754740   \n",
       "93                    14.781697                          0.213816   \n",
       "94                    53.138132                          1.743864   \n",
       "95                    54.661465                          0.822746   \n",
       "96                    45.667893                          1.270164   \n",
       "97                   131.096006                          0.632219   \n",
       "98                     1.997622                          0.117854   \n",
       "99                   270.314358                          1.268257   \n",
       "\n",
       "    Population_Synthesised  \n",
       "0              4937.498588  \n",
       "1             11878.814669  \n",
       "2              8710.502930  \n",
       "3             12607.679470  \n",
       "4             13759.256257  \n",
       "5                62.202871  \n",
       "6             10811.923145  \n",
       "7             23170.756897  \n",
       "8             10068.463242  \n",
       "9             19180.693233  \n",
       "10            17610.178747  \n",
       "11            27254.819970  \n",
       "12             4913.188925  \n",
       "13             4848.308331  \n",
       "14             9434.578698  \n",
       "15            27065.985382  \n",
       "16            30253.338220  \n",
       "17            50703.232208  \n",
       "18             8165.727728  \n",
       "19             6367.663462  \n",
       "20             3427.460783  \n",
       "21             9769.449611  \n",
       "22             2044.349286  \n",
       "23            14138.895082  \n",
       "24            23617.699785  \n",
       "25             2699.996296  \n",
       "26            18529.236190  \n",
       "27            73412.999541  \n",
       "28             9946.229915  \n",
       "29            15381.246451  \n",
       "..                     ...  \n",
       "70             7253.852107  \n",
       "71            24891.679594  \n",
       "72             8381.718569  \n",
       "73            34290.825728  \n",
       "74            17216.444043  \n",
       "75            22589.579288  \n",
       "76            62434.448144  \n",
       "77             7197.810900  \n",
       "78             4183.473664  \n",
       "79             5356.747396  \n",
       "80            54433.135385  \n",
       "81            38638.298917  \n",
       "82            80257.012902  \n",
       "83              940.406616  \n",
       "84            10263.684561  \n",
       "85            51417.537486  \n",
       "86            12286.109678  \n",
       "87            23149.672870  \n",
       "88               71.179305  \n",
       "89             1483.364166  \n",
       "90            21695.513029  \n",
       "91            53100.097334  \n",
       "92             9028.627916  \n",
       "93             2583.418416  \n",
       "94              531.276215  \n",
       "95             1959.933883  \n",
       "96             3273.982345  \n",
       "97             4544.430429  \n",
       "98             5170.454427  \n",
       "99            12432.921735  \n",
       "\n",
       "[100 rows x 5 columns]"
      ]
     },
     "execution_count": 39,
     "metadata": {},
     "output_type": "execute_result"
    }
   ],
   "source": [
    "New_Synthesised_Data = pd.DataFrame({'GDP_Per_Capita_Synthesised': gdp_per_cap_syn, 'Life_Expectancy_Synthesised': life_expect_syn, 'Population_Synthesised': population_syn, 'Birth_Rate_Synthesised': birth_rate_syn, 'Neonatal_mortal_rate_Synthesised': neonatal_mortal_syn})\n",
    "New_Synthesised_Data"
   ]
  },
  {
   "cell_type": "markdown",
   "metadata": {},
   "source": [
    "### 3.0 Summary\n",
    "\n",
    "For this project I chose to review data of the world econometric factors in order to analyse the associations between the world GDP per capita, life expectancy, population, birth rate and neo natal mortality rate. This project is based on a pre existing dataset taken from the world databank indicators portal. The datset is called nations.csv. \n",
    "\n",
    "Five variables have been taken into consideration:\n",
    "- gdp_percap\n",
    "- life_expect\n",
    "- population\n",
    "- birth_rate\n",
    "- Neo natal Mortal Rate.\n",
    "\n",
    "To begin I analysed the existing dataset to understand the different attributes, their relations with each other and the distribution they follow. Using these observations I formed an algorithym for a manual data simulation.\n",
    "\n",
    "I read the csv file to anaylse and then decided to focus on the year 2000 for my review. Section 2.2 allowed me to investigate the types of variables involved, their distributions and relationships with each other. To begin I extracted any data I would not be using (na & unused columns). I then defined the year I would anaylse for this project as 2000. I chose the 5 variables listed above for this project. I used the describe function to output a statistical analysis of the data for the year 2000. I used the dtypes function to display the type of data in each column.I anaylysed the distribution of my data using histograms. This allows me to clearly define the type of distribution e.g. Poisson and Binomial. \n",
    "\n",
    "Once I had reviewed the chosen dataset I then used this data to simulate data based on the 5 chosen variables over 100 data points. I used the np.random.exponential to gather this data and the output was displayed in histograms. Finally I displayed the simulated data in a dataframe with 100 data points."
   ]
  },
  {
   "cell_type": "markdown",
   "metadata": {},
   "source": [
    "### 4.0 References\n",
    "- 1.0 Data nations.csv http://www.worldbank.org/\n",
    "- Research https://ermlab.com/en/blog/data-science/pandas-seaborn-world-bank-gdp-analysis/\n",
    "- https://jakevdp.github.io/PythonDataScienceHandbook/03.11-working-with-time-series.html\n",
    "- 2.3 https://www.programcreek.com/python/example/55595/numpy.random.exponential\n",
    "- 2.3 https://stackoverflow.com/questions/15091982/manipulating-the-numpy-random-exponential-distribution-in-python\n",
    "- Poisson distribution: Frank H Stephenson, Calculations for Molecular Biology and Biotechnology (Third Edition), 2016. Link: https://www.sciencedirect.com/topics/biochemistry-genetics-and-molecular-biology/poisson-distribution\n",
    "- Poisson distribution: Jonathan Marchini (2008). Link: http://www.stats.ox.ac.uk/~marchini/teaching/L5/L5.notes.pdf\n",
    "- Binomial Distribution: http://www.stat.yale.edu/Courses/1997-98/101/binom.htm"
   ]
  }
 ],
 "metadata": {
  "kernelspec": {
   "display_name": "Python 3",
   "language": "python",
   "name": "python3"
  },
  "language_info": {
   "codemirror_mode": {
    "name": "ipython",
    "version": 3
   },
   "file_extension": ".py",
   "mimetype": "text/x-python",
   "name": "python",
   "nbconvert_exporter": "python",
   "pygments_lexer": "ipython3",
   "version": "3.6.4"
  }
 },
 "nbformat": 4,
 "nbformat_minor": 2
}
