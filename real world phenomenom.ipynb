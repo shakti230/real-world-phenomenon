{
 "cells": [
  {
   "cell_type": "markdown",
   "metadata": {},
   "source": [
    "# Mary McDonagh\n",
    "# Programming for Data Analysis\n",
    "# Analysis of a real world phenomenom\n",
    "\n",
    "### Table of Contents\n",
    "- 1.0 Investigation\n",
    "- 2.0 Assignment Questions:\n",
    "- 2.1 Choose a real world phenomenon to collect at least one-hundred data points across at least four different variables.\n",
    "- 2.2 Investigate the types of variables involved, their likely distributions and their relationships with each other.\n",
    "- 2.3 Sumulate a data set matching their properties as closely as possible.\n",
    "- 2.4 Detail my research and output the simulation using a Jupyter notebook. \n",
    "- 3.0 Summary\n",
    "- 4.0 References"
   ]
  },
  {
   "cell_type": "markdown",
   "metadata": {},
   "source": [
    "## 1.0 Investigation\n",
    "I have chosen the example reviewing sample census data which I have made up for the purpose of this project. The four variables I will review are age, gender, nationality and work status."
   ]
  },
  {
   "cell_type": "markdown",
   "metadata": {},
   "source": [
    "## 2.0 Assignment Questions\n",
    "\n",
    "### 2.1: Choose a real-world phenomenon that can be measured and for which you could collect at least one-hundred data points across at least four different variables"
   ]
  },
  {
   "cell_type": "markdown",
   "metadata": {},
   "source": [
    "### Real World Phenomenom\n",
    "Analysing the world's econometric factors while highlighting the associations between the world GDP per capita, life expectancy, population, birth rate and neo natal mortality rate.\n",
    "This project is based on a pre existing dataset taken from the world databank indicators portal. The datset is called nations.csv."
   ]
  },
  {
   "cell_type": "markdown",
   "metadata": {},
   "source": [
    "#### Overview of the existing Dataset.\n",
    "\n",
    "Five attributes have been taken into consideration:\n",
    "- gdp_percap\n",
    "- life_expect\n",
    "- population\n",
    "- birth_rate\n",
    "- Neo natal Mortal Rate.\n",
    "\n",
    "To begin we will study the existing dataset to understand the different attributes, their relations with each other and the distribution they follow. Using these observations we will form an algorithym for a manual data sythesis."
   ]
  },
  {
   "cell_type": "code",
   "execution_count": 14,
   "metadata": {},
   "outputs": [],
   "source": [
    "# import packages\n",
    "import numpy as np\n",
    "import pandas as pd\n",
    "import seaborn as sns\n",
    "import matplotlib.pyplot as plt\n",
    "%matplotlib inline\n",
    "from collections import Counter"
   ]
  },
  {
   "cell_type": "code",
   "execution_count": 4,
   "metadata": {},
   "outputs": [
    {
     "data": {
      "text/plain": [
       "'C:\\\\Users\\\\sam2\\\\real world phenomenon'"
      ]
     },
     "execution_count": 4,
     "metadata": {},
     "output_type": "execute_result"
    }
   ],
   "source": [
    "import pandas as pd\n",
    "import os\n",
    "os.getcwd()"
   ]
  },
  {
   "cell_type": "code",
   "execution_count": 5,
   "metadata": {},
   "outputs": [
    {
     "data": {
      "text/plain": [
       "['.ipynb_checkpoints',\n",
       " 'nations.csv',\n",
       " 'obsolete',\n",
       " 'real world phenomenom.ipynb',\n",
       " 'Updated project']"
      ]
     },
     "execution_count": 5,
     "metadata": {},
     "output_type": "execute_result"
    }
   ],
   "source": [
    "os.listdir(os.getcwd())"
   ]
  },
  {
   "cell_type": "code",
   "execution_count": 15,
   "metadata": {},
   "outputs": [
    {
     "name": "stdout",
     "output_type": "stream",
     "text": [
      "['iso2c', 'iso3c', 'country', 'year', 'gdp_percap', 'life_expect', 'population', 'birth_rate', 'neonat_mortal_rate', 'region', 'income']\n",
      "Counter({1990: 211, 1991: 211, 1992: 211, 1993: 211, 1994: 211, 1995: 211, 1996: 211, 1997: 211, 1998: 211, 1999: 211, 2000: 211, 2001: 211, 2002: 211, 2003: 211, 2004: 211, 2005: 211, 2006: 211, 2007: 211, 2008: 211, 2009: 211, 2010: 211, 2011: 211, 2012: 211, 2013: 211, 2014: 211})\n",
      " Number of Rows by Columns (5275, 11)\n"
     ]
    }
   ],
   "source": [
    "# Reading the csv file with the pre-defined data\n",
    "# Sort the year into a list and print the output\n",
    "predefined_data = pd.read_csv(\"nations.csv\")\n",
    "print(list(predefined_data))\n",
    "year=sorted(predefined_data['year'].tolist())\n",
    "print(Counter(year))\n",
    "print(\" Number of Rows by Columns\", predefined_data.shape)"
   ]
  },
  {
   "cell_type": "code",
   "execution_count": 13,
   "metadata": {},
   "outputs": [
    {
     "data": {
      "text/html": [
       "<div>\n",
       "<style scoped>\n",
       "    .dataframe tbody tr th:only-of-type {\n",
       "        vertical-align: middle;\n",
       "    }\n",
       "\n",
       "    .dataframe tbody tr th {\n",
       "        vertical-align: top;\n",
       "    }\n",
       "\n",
       "    .dataframe thead th {\n",
       "        text-align: right;\n",
       "    }\n",
       "</style>\n",
       "<table border=\"1\" class=\"dataframe\">\n",
       "  <thead>\n",
       "    <tr style=\"text-align: right;\">\n",
       "      <th></th>\n",
       "      <th>iso2c</th>\n",
       "      <th>iso3c</th>\n",
       "      <th>country</th>\n",
       "      <th>year</th>\n",
       "      <th>gdp_percap</th>\n",
       "      <th>life_expect</th>\n",
       "      <th>population</th>\n",
       "      <th>birth_rate</th>\n",
       "      <th>neonat_mortal_rate</th>\n",
       "      <th>region</th>\n",
       "      <th>income</th>\n",
       "    </tr>\n",
       "  </thead>\n",
       "  <tbody>\n",
       "    <tr>\n",
       "      <th>0</th>\n",
       "      <td>AD</td>\n",
       "      <td>AND</td>\n",
       "      <td>Andorra</td>\n",
       "      <td>1996</td>\n",
       "      <td>NaN</td>\n",
       "      <td>NaN</td>\n",
       "      <td>64291.0</td>\n",
       "      <td>10.9</td>\n",
       "      <td>2.8</td>\n",
       "      <td>Europe &amp; Central Asia</td>\n",
       "      <td>High income</td>\n",
       "    </tr>\n",
       "    <tr>\n",
       "      <th>1</th>\n",
       "      <td>AD</td>\n",
       "      <td>AND</td>\n",
       "      <td>Andorra</td>\n",
       "      <td>1994</td>\n",
       "      <td>NaN</td>\n",
       "      <td>NaN</td>\n",
       "      <td>62707.0</td>\n",
       "      <td>10.9</td>\n",
       "      <td>3.2</td>\n",
       "      <td>Europe &amp; Central Asia</td>\n",
       "      <td>High income</td>\n",
       "    </tr>\n",
       "    <tr>\n",
       "      <th>2</th>\n",
       "      <td>AD</td>\n",
       "      <td>AND</td>\n",
       "      <td>Andorra</td>\n",
       "      <td>2003</td>\n",
       "      <td>NaN</td>\n",
       "      <td>NaN</td>\n",
       "      <td>74783.0</td>\n",
       "      <td>10.3</td>\n",
       "      <td>2.0</td>\n",
       "      <td>Europe &amp; Central Asia</td>\n",
       "      <td>High income</td>\n",
       "    </tr>\n",
       "    <tr>\n",
       "      <th>3</th>\n",
       "      <td>AD</td>\n",
       "      <td>AND</td>\n",
       "      <td>Andorra</td>\n",
       "      <td>1990</td>\n",
       "      <td>NaN</td>\n",
       "      <td>NaN</td>\n",
       "      <td>54511.0</td>\n",
       "      <td>11.9</td>\n",
       "      <td>4.3</td>\n",
       "      <td>Europe &amp; Central Asia</td>\n",
       "      <td>High income</td>\n",
       "    </tr>\n",
       "    <tr>\n",
       "      <th>4</th>\n",
       "      <td>AD</td>\n",
       "      <td>AND</td>\n",
       "      <td>Andorra</td>\n",
       "      <td>2009</td>\n",
       "      <td>NaN</td>\n",
       "      <td>NaN</td>\n",
       "      <td>85474.0</td>\n",
       "      <td>9.9</td>\n",
       "      <td>1.7</td>\n",
       "      <td>Europe &amp; Central Asia</td>\n",
       "      <td>High income</td>\n",
       "    </tr>\n",
       "  </tbody>\n",
       "</table>\n",
       "</div>"
      ],
      "text/plain": [
       "  iso2c iso3c  country  year  gdp_percap  life_expect  population  birth_rate  \\\n",
       "0    AD   AND  Andorra  1996         NaN          NaN     64291.0        10.9   \n",
       "1    AD   AND  Andorra  1994         NaN          NaN     62707.0        10.9   \n",
       "2    AD   AND  Andorra  2003         NaN          NaN     74783.0        10.3   \n",
       "3    AD   AND  Andorra  1990         NaN          NaN     54511.0        11.9   \n",
       "4    AD   AND  Andorra  2009         NaN          NaN     85474.0         9.9   \n",
       "\n",
       "   neonat_mortal_rate                 region       income  \n",
       "0                 2.8  Europe & Central Asia  High income  \n",
       "1                 3.2  Europe & Central Asia  High income  \n",
       "2                 2.0  Europe & Central Asia  High income  \n",
       "3                 4.3  Europe & Central Asia  High income  \n",
       "4                 1.7  Europe & Central Asia  High income  "
      ]
     },
     "execution_count": 13,
     "metadata": {},
     "output_type": "execute_result"
    }
   ],
   "source": [
    "df_nations = pd.read_csv('https://raw.githubusercontent.com/shakti230/real-world-phenomenon/master/nations.csv')\n",
    "df_nations.head()"
   ]
  },
  {
   "cell_type": "markdown",
   "metadata": {},
   "source": [
    "### 2.2 Investigate the types of variables involved, their likely distributions and their relationships with each other.\n"
   ]
  },
  {
   "cell_type": "markdown",
   "metadata": {},
   "source": [
    "#### Subsetting values\n",
    "The dataset has 5275 rows of data gathered over a period of 24 years starting from 1990 to 2014. Each year has 211 data point. We subset the data where the year is equal to 2000. I will use this as a reference for the project. The rows containing NA values have been removed and the columns which are not necessary are not included.\n"
   ]
  },
  {
   "cell_type": "code",
   "execution_count": 6,
   "metadata": {},
   "outputs": [
    {
     "data": {
      "text/html": [
       "<div>\n",
       "<style scoped>\n",
       "    .dataframe tbody tr th:only-of-type {\n",
       "        vertical-align: middle;\n",
       "    }\n",
       "\n",
       "    .dataframe tbody tr th {\n",
       "        vertical-align: top;\n",
       "    }\n",
       "\n",
       "    .dataframe thead th {\n",
       "        text-align: right;\n",
       "    }\n",
       "</style>\n",
       "<table border=\"1\" class=\"dataframe\">\n",
       "  <thead>\n",
       "    <tr style=\"text-align: right;\">\n",
       "      <th></th>\n",
       "      <th>country</th>\n",
       "      <th>year</th>\n",
       "      <th>gdp_percap</th>\n",
       "      <th>life_expect</th>\n",
       "      <th>population</th>\n",
       "      <th>birth_rate</th>\n",
       "      <th>neonat_mortal_rate</th>\n",
       "      <th>region</th>\n",
       "      <th>income</th>\n",
       "    </tr>\n",
       "  </thead>\n",
       "  <tbody>\n",
       "    <tr>\n",
       "      <th>34</th>\n",
       "      <td>United Arab Emirates</td>\n",
       "      <td>2000</td>\n",
       "      <td>84974.894090</td>\n",
       "      <td>74.451537</td>\n",
       "      <td>3050128.0</td>\n",
       "      <td>16.399</td>\n",
       "      <td>5.6</td>\n",
       "      <td>Middle East &amp; North Africa</td>\n",
       "      <td>High income</td>\n",
       "    </tr>\n",
       "    <tr>\n",
       "      <th>80</th>\n",
       "      <td>Antigua and Barbuda</td>\n",
       "      <td>2000</td>\n",
       "      <td>15312.566500</td>\n",
       "      <td>73.397293</td>\n",
       "      <td>77648.0</td>\n",
       "      <td>20.240</td>\n",
       "      <td>9.4</td>\n",
       "      <td>Latin America &amp; Caribbean</td>\n",
       "      <td>Upper middle income</td>\n",
       "    </tr>\n",
       "    <tr>\n",
       "      <th>119</th>\n",
       "      <td>Albania</td>\n",
       "      <td>2000</td>\n",
       "      <td>4045.752069</td>\n",
       "      <td>74.271537</td>\n",
       "      <td>3089027.0</td>\n",
       "      <td>16.401</td>\n",
       "      <td>11.3</td>\n",
       "      <td>Europe &amp; Central Asia</td>\n",
       "      <td>Upper middle income</td>\n",
       "    </tr>\n",
       "    <tr>\n",
       "      <th>139</th>\n",
       "      <td>Armenia</td>\n",
       "      <td>2000</td>\n",
       "      <td>2313.331946</td>\n",
       "      <td>71.276585</td>\n",
       "      <td>3076098.0</td>\n",
       "      <td>13.203</td>\n",
       "      <td>15.9</td>\n",
       "      <td>Europe &amp; Central Asia</td>\n",
       "      <td>Lower middle income</td>\n",
       "    </tr>\n",
       "    <tr>\n",
       "      <th>161</th>\n",
       "      <td>Angola</td>\n",
       "      <td>2000</td>\n",
       "      <td>3036.559728</td>\n",
       "      <td>45.204780</td>\n",
       "      <td>15058638.0</td>\n",
       "      <td>51.009</td>\n",
       "      <td>58.4</td>\n",
       "      <td>Sub-Saharan Africa</td>\n",
       "      <td>Lower middle income</td>\n",
       "    </tr>\n",
       "  </tbody>\n",
       "</table>\n",
       "</div>"
      ],
      "text/plain": [
       "                  country  year    gdp_percap  life_expect  population  \\\n",
       "34   United Arab Emirates  2000  84974.894090    74.451537   3050128.0   \n",
       "80    Antigua and Barbuda  2000  15312.566500    73.397293     77648.0   \n",
       "119               Albania  2000   4045.752069    74.271537   3089027.0   \n",
       "139               Armenia  2000   2313.331946    71.276585   3076098.0   \n",
       "161                Angola  2000   3036.559728    45.204780  15058638.0   \n",
       "\n",
       "     birth_rate  neonat_mortal_rate                      region  \\\n",
       "34       16.399                 5.6  Middle East & North Africa   \n",
       "80       20.240                 9.4   Latin America & Caribbean   \n",
       "119      16.401                11.3       Europe & Central Asia   \n",
       "139      13.203                15.9       Europe & Central Asia   \n",
       "161      51.009                58.4          Sub-Saharan Africa   \n",
       "\n",
       "                  income  \n",
       "34           High income  \n",
       "80   Upper middle income  \n",
       "119  Upper middle income  \n",
       "139  Lower middle income  \n",
       "161  Lower middle income  "
      ]
     },
     "execution_count": 6,
     "metadata": {},
     "output_type": "execute_result"
    }
   ],
   "source": [
    "# Extracting the data from the year 2000\n",
    "# predefined_data = predefined_data[predefined_data['Year'] == 2000]\n",
    "# remove any rows containing na\n",
    "# remove columns which will not be analysed in this project\n",
    "predefined_data_2000=predefined_data.loc[predefined_data['year'] == 2000].dropna().drop(columns=['iso2c', 'iso3c'])\n",
    "predefined_data_2000.head()"
   ]
  },
  {
   "cell_type": "markdown",
   "metadata": {},
   "source": [
    "#### Exploratory Analysis\n",
    "Using the describe() function we can display the statistical facts of the data as shown below."
   ]
  },
  {
   "cell_type": "code",
   "execution_count": 8,
   "metadata": {},
   "outputs": [
    {
     "data": {
      "text/html": [
       "<div>\n",
       "<style scoped>\n",
       "    .dataframe tbody tr th:only-of-type {\n",
       "        vertical-align: middle;\n",
       "    }\n",
       "\n",
       "    .dataframe tbody tr th {\n",
       "        vertical-align: top;\n",
       "    }\n",
       "\n",
       "    .dataframe thead th {\n",
       "        text-align: right;\n",
       "    }\n",
       "</style>\n",
       "<table border=\"1\" class=\"dataframe\">\n",
       "  <thead>\n",
       "    <tr style=\"text-align: right;\">\n",
       "      <th></th>\n",
       "      <th>year</th>\n",
       "      <th>gdp_percap</th>\n",
       "      <th>life_expect</th>\n",
       "      <th>population</th>\n",
       "      <th>birth_rate</th>\n",
       "      <th>neonat_mortal_rate</th>\n",
       "    </tr>\n",
       "  </thead>\n",
       "  <tbody>\n",
       "    <tr>\n",
       "      <th>count</th>\n",
       "      <td>173.0</td>\n",
       "      <td>173.000000</td>\n",
       "      <td>173.000000</td>\n",
       "      <td>1.730000e+02</td>\n",
       "      <td>173.000000</td>\n",
       "      <td>173.000000</td>\n",
       "    </tr>\n",
       "    <tr>\n",
       "      <th>mean</th>\n",
       "      <td>2000.0</td>\n",
       "      <td>10873.431872</td>\n",
       "      <td>66.468042</td>\n",
       "      <td>3.420891e+07</td>\n",
       "      <td>24.497205</td>\n",
       "      <td>20.243353</td>\n",
       "    </tr>\n",
       "    <tr>\n",
       "      <th>std</th>\n",
       "      <td>0.0</td>\n",
       "      <td>14194.539120</td>\n",
       "      <td>10.246487</td>\n",
       "      <td>1.284700e+08</td>\n",
       "      <td>12.043846</td>\n",
       "      <td>15.205909</td>\n",
       "    </tr>\n",
       "    <tr>\n",
       "      <th>min</th>\n",
       "      <td>2000.0</td>\n",
       "      <td>410.975954</td>\n",
       "      <td>38.690146</td>\n",
       "      <td>1.917400e+04</td>\n",
       "      <td>7.800000</td>\n",
       "      <td>1.600000</td>\n",
       "    </tr>\n",
       "    <tr>\n",
       "      <th>25%</th>\n",
       "      <td>2000.0</td>\n",
       "      <td>1958.932465</td>\n",
       "      <td>59.339488</td>\n",
       "      <td>2.367550e+06</td>\n",
       "      <td>13.300000</td>\n",
       "      <td>7.000000</td>\n",
       "    </tr>\n",
       "    <tr>\n",
       "      <th>50%</th>\n",
       "      <td>2000.0</td>\n",
       "      <td>5785.874250</td>\n",
       "      <td>70.137195</td>\n",
       "      <td>6.949366e+06</td>\n",
       "      <td>21.859000</td>\n",
       "      <td>16.000000</td>\n",
       "    </tr>\n",
       "    <tr>\n",
       "      <th>75%</th>\n",
       "      <td>2000.0</td>\n",
       "      <td>12085.376020</td>\n",
       "      <td>73.748780</td>\n",
       "      <td>2.139227e+07</td>\n",
       "      <td>32.945000</td>\n",
       "      <td>32.000000</td>\n",
       "    </tr>\n",
       "    <tr>\n",
       "      <th>max</th>\n",
       "      <td>2000.0</td>\n",
       "      <td>86725.542030</td>\n",
       "      <td>81.076098</td>\n",
       "      <td>1.262645e+09</td>\n",
       "      <td>53.251000</td>\n",
       "      <td>60.400000</td>\n",
       "    </tr>\n",
       "  </tbody>\n",
       "</table>\n",
       "</div>"
      ],
      "text/plain": [
       "         year    gdp_percap  life_expect    population  birth_rate  \\\n",
       "count   173.0    173.000000   173.000000  1.730000e+02  173.000000   \n",
       "mean   2000.0  10873.431872    66.468042  3.420891e+07   24.497205   \n",
       "std       0.0  14194.539120    10.246487  1.284700e+08   12.043846   \n",
       "min    2000.0    410.975954    38.690146  1.917400e+04    7.800000   \n",
       "25%    2000.0   1958.932465    59.339488  2.367550e+06   13.300000   \n",
       "50%    2000.0   5785.874250    70.137195  6.949366e+06   21.859000   \n",
       "75%    2000.0  12085.376020    73.748780  2.139227e+07   32.945000   \n",
       "max    2000.0  86725.542030    81.076098  1.262645e+09   53.251000   \n",
       "\n",
       "       neonat_mortal_rate  \n",
       "count          173.000000  \n",
       "mean            20.243353  \n",
       "std             15.205909  \n",
       "min              1.600000  \n",
       "25%              7.000000  \n",
       "50%             16.000000  \n",
       "75%             32.000000  \n",
       "max             60.400000  "
      ]
     },
     "execution_count": 8,
     "metadata": {},
     "output_type": "execute_result"
    }
   ],
   "source": [
    "#Exploratory analysis of different attributes.\n",
    "predefined_data_2000.describe()"
   ]
  },
  {
   "cell_type": "markdown",
   "metadata": {},
   "source": [
    "### Dataset per Column \n",
    "The code listed below is used to display the datatypes of the Columns in the data frame. The variables analysed in this project and their data types are as listed below:\n",
    "- year - integer type i.e. non zero value\n",
    "- gdp_percap - float i.e. decimal Value\n",
    "- life_expect - float i.e. decimal Value\n",
    "- population - float i.e. decimal Value\n",
    "- birth_rate - float i.e. decimal Value\n",
    "- neonat_mortal_rate - float i.e. decimal Value"
   ]
  },
  {
   "cell_type": "markdown",
   "metadata": {},
   "source": [
    "### 2.3 Sumulate a data set matching their properties as closely as possible.\n"
   ]
  },
  {
   "cell_type": "markdown",
   "metadata": {},
   "source": [
    "### 2.4 Detail my research and output the simulation using a Jupyter notebook. "
   ]
  },
  {
   "cell_type": "markdown",
   "metadata": {},
   "source": [
    "### 3.0 Summary\n"
   ]
  },
  {
   "cell_type": "markdown",
   "metadata": {},
   "source": [
    "### 4.0 References"
   ]
  }
 ],
 "metadata": {
  "kernelspec": {
   "display_name": "Python 3",
   "language": "python",
   "name": "python3"
  },
  "language_info": {
   "codemirror_mode": {
    "name": "ipython",
    "version": 3
   },
   "file_extension": ".py",
   "mimetype": "text/x-python",
   "name": "python",
   "nbconvert_exporter": "python",
   "pygments_lexer": "ipython3",
   "version": "3.6.4"
  }
 },
 "nbformat": 4,
 "nbformat_minor": 2
}
